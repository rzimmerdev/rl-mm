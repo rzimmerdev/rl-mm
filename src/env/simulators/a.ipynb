{
 "cells": [
  {
   "metadata": {
    "ExecuteTime": {
     "end_time": "2024-12-29T22:51:35.606508Z",
     "start_time": "2024-12-29T22:51:35.298027Z"
    }
   },
   "cell_type": "code",
   "source": [
    "from env.simulators.market_simulator import MarketSimulator\n",
    "from env.lob.red_black_tree import RedBlackTree\n",
    "import numpy as np\n",
    "import matplotlib.pyplot as plt"
   ],
   "id": "bb93fe9711cacd44",
   "outputs": [],
   "execution_count": 1
  },
  {
   "metadata": {
    "ExecuteTime": {
     "end_time": "2024-12-29T22:51:35.612308Z",
     "start_time": "2024-12-29T22:51:35.609633Z"
    }
   },
   "cell_type": "code",
   "source": [
    "starting_value = 100\n",
    "trading_hours = 6.5\n",
    "trading_days = 252\n",
    "annualized_return = 0.21\n",
    "annualized_volatility = 0.3\n",
    "\n",
    "# 1 minute\n",
    "dt = 1 / trading_days / trading_hours / 60\n",
    "\n",
    "# 1 day\n",
    "t = 1 / trading_days \n",
    "\n",
    "risk_free_mean = annualized_return\n",
    "risk_free_std = 0\n",
    "volatility = annualized_volatility\n",
    "spread_mean = 0\n",
    "spread_std = 0"
   ],
   "id": "42f17ae3b9b61f6d",
   "outputs": [],
   "execution_count": 2
  },
  {
   "metadata": {
    "collapsed": true,
    "ExecuteTime": {
     "end_time": "2024-12-29T22:51:35.693172Z",
     "start_time": "2024-12-29T22:51:35.690876Z"
    }
   },
   "cell_type": "code",
   "source": [
    "sim = MarketSimulator(\n",
    "    starting_value=starting_value,\n",
    "    risk_free_mean=risk_free_mean,\n",
    "    risk_free_std=risk_free_std,\n",
    "    volatility=volatility,\n",
    "    spread_mean=spread_mean,\n",
    "    spread_std=spread_std,\n",
    "    dt=dt\n",
    ")"
   ],
   "id": "initial_id",
   "outputs": [],
   "execution_count": 3
  },
  {
   "metadata": {
    "ExecuteTime": {
     "end_time": "2024-12-29T22:51:35.743817Z",
     "start_time": "2024-12-29T22:51:35.738278Z"
    }
   },
   "cell_type": "code",
   "source": "sim.market_variables",
   "id": "e8b22225964de7cf",
   "outputs": [
    {
     "data": {
      "text/plain": [
       "{'last_transaction': 100,\n",
       " 'midprice': 100,\n",
       " 'risk_free_rate': 0.21,\n",
       " 'spread': 0,\n",
       " 'timestep': 0,\n",
       " 'events': []}"
      ]
     },
     "execution_count": 4,
     "metadata": {},
     "output_type": "execute_result"
    }
   ],
   "execution_count": 4
  },
  {
   "metadata": {
    "ExecuteTime": {
     "end_time": "2024-12-29T22:51:35.856341Z",
     "start_time": "2024-12-29T22:51:35.852866Z"
    }
   },
   "cell_type": "code",
   "source": "sim.bid_process.sample(sim.market_variables[\"midprice\"], dt)",
   "id": "170685892731ea37",
   "outputs": [
    {
     "data": {
      "text/plain": [
       "100.15628671993349"
      ]
     },
     "execution_count": 5,
     "metadata": {},
     "output_type": "execute_result"
    }
   ],
   "execution_count": 5
  },
  {
   "metadata": {
    "ExecuteTime": {
     "end_time": "2024-12-29T22:51:35.964986Z",
     "start_time": "2024-12-29T22:51:35.961498Z"
    }
   },
   "cell_type": "code",
   "source": "sim.ask_process.sample(sim.market_variables[\"midprice\"], dt)",
   "id": "40cb4a4374e38598",
   "outputs": [
    {
     "data": {
      "text/plain": [
       "99.88253383807132"
      ]
     },
     "execution_count": 6,
     "metadata": {},
     "output_type": "execute_result"
    }
   ],
   "execution_count": 6
  },
  {
   "metadata": {
    "ExecuteTime": {
     "end_time": "2024-12-29T22:51:36.046064Z",
     "start_time": "2024-12-29T22:51:36.042984Z"
    }
   },
   "cell_type": "code",
   "source": "sim.next_event",
   "id": "7122fb6e09e5897",
   "outputs": [
    {
     "data": {
      "text/plain": [
       "2.5599795538597153e-05"
      ]
     },
     "execution_count": 7,
     "metadata": {},
     "output_type": "execute_result"
    }
   ],
   "execution_count": 7
  },
  {
   "metadata": {
    "ExecuteTime": {
     "end_time": "2024-12-29T22:51:36.118957Z",
     "start_time": "2024-12-29T22:51:36.115648Z"
    }
   },
   "cell_type": "code",
   "source": "sim.event_process.sample(0, dt)",
   "id": "db23f5004acc25e1",
   "outputs": [
    {
     "data": {
      "text/plain": [
       "3.362670289043777e-05"
      ]
     },
     "execution_count": 8,
     "metadata": {},
     "output_type": "execute_result"
    }
   ],
   "execution_count": 8
  },
  {
   "metadata": {
    "ExecuteTime": {
     "end_time": "2024-12-29T22:51:36.185702Z",
     "start_time": "2024-12-29T22:51:36.182510Z"
    }
   },
   "cell_type": "code",
   "source": [
    "ps = []\n",
    "sim.reset()\n",
    "sim.market_variables[\"last_transaction\"]"
   ],
   "id": "9e8f46c3cf4e2f88",
   "outputs": [
    {
     "data": {
      "text/plain": [
       "100"
      ]
     },
     "execution_count": 9,
     "metadata": {},
     "output_type": "execute_result"
    }
   ],
   "execution_count": 9
  },
  {
   "metadata": {
    "ExecuteTime": {
     "end_time": "2024-12-29T22:53:02.242901Z",
     "start_time": "2024-12-29T22:53:02.232350Z"
    }
   },
   "cell_type": "code",
   "source": [
    "t = sim.step()\n",
    "p = sim.market_variables[\"last_transaction\"]\n",
    "ps.append(p)\n",
    "print(np.sum([sim.bid_process.sample(p, dt) for _ in range(1000)]) / 1000)\n",
    "print(np.sum([sim.ask_process.sample(p, dt) for _ in range(1000)]) / 1000)\n",
    "print(p)\n",
    "print(list(sim.lob.asks.ordered_traversal()))\n",
    "print(list(sim.lob.bids.ordered_traversal()))"
   ],
   "id": "23858f5578ec1b8a",
   "outputs": [
    {
     "name": "stdout",
     "output_type": "stream",
     "text": [
      "100.2137695486315\n",
      "100.20865162414687\n",
      "100.21000000000001\n",
      "[<env.lob.red_black_tree.Node object at 0x7f0ac4364190>, <env.lob.red_black_tree.Node object at 0x7f0ac4398ad0>, <env.lob.red_black_tree.Node object at 0x7f0ac439b3d0>, <env.lob.red_black_tree.Node object at 0x7f0ac439a650>, <env.lob.red_black_tree.Node object at 0x7f0ac4398a10>, <env.lob.red_black_tree.Node object at 0x7f0ac43984d0>, <env.lob.red_black_tree.Node object at 0x7f0ac4364b10>, <env.lob.red_black_tree.Node object at 0x7f0ac43988d0>, <env.lob.red_black_tree.Node object at 0x7f0ac4364c10>, <env.lob.red_black_tree.Node object at 0x7f0ac43652d0>]\n",
      "[<env.lob.red_black_tree.Node object at 0x7f0ac4399110>, <env.lob.red_black_tree.Node object at 0x7f0ac439a010>, <env.lob.red_black_tree.Node object at 0x7f0ac4399010>, <env.lob.red_black_tree.Node object at 0x7f0ac4399690>, <env.lob.red_black_tree.Node object at 0x7f0ac4399e90>, <env.lob.red_black_tree.Node object at 0x7f0ac439a190>, <env.lob.red_black_tree.Node object at 0x7f0ac43649d0>, <env.lob.red_black_tree.Node object at 0x7f0ac4364d90>, <env.lob.red_black_tree.Node object at 0x7f0ac439a0d0>, <env.lob.red_black_tree.Node object at 0x7f0ac43640d0>, <env.lob.red_black_tree.Node object at 0x7f0ac4364550>, <env.lob.red_black_tree.Node object at 0x7f0ac4365250>, <env.lob.red_black_tree.Node object at 0x7f0ac43645d0>, <env.lob.red_black_tree.Node object at 0x7f0ac4365ad0>]\n"
     ]
    }
   ],
   "execution_count": 53
  },
  {
   "metadata": {
    "ExecuteTime": {
     "end_time": "2024-12-29T22:52:43.104112Z",
     "start_time": "2024-12-29T22:52:43.101394Z"
    }
   },
   "cell_type": "code",
   "source": "sim.next_event",
   "id": "d78bc9dca53424b4",
   "outputs": [
    {
     "data": {
      "text/plain": [
       "0.00010044446585971147"
      ]
     },
     "execution_count": 27,
     "metadata": {},
     "output_type": "execute_result"
    }
   ],
   "execution_count": 27
  },
  {
   "metadata": {
    "ExecuteTime": {
     "end_time": "2024-12-29T22:52:43.518153Z",
     "start_time": "2024-12-29T22:52:43.515463Z"
    }
   },
   "cell_type": "code",
   "source": "sim.midprice()",
   "id": "417ef37087ed6b3c",
   "outputs": [
    {
     "data": {
      "text/plain": [
       "100"
      ]
     },
     "execution_count": 28,
     "metadata": {},
     "output_type": "execute_result"
    }
   ],
   "execution_count": 28
  },
  {
   "metadata": {
    "ExecuteTime": {
     "end_time": "2024-12-29T22:43:47.815273Z",
     "start_time": "2024-12-29T22:43:47.762158Z"
    }
   },
   "cell_type": "code",
   "source": [
    "print(np.mean([sim.bid_process.sample(p, dt) for _ in range(10000)]))\n",
    "print(np.mean([sim.ask_process.sample(p, dt) for _ in range(10000)]))"
   ],
   "id": "ed190bba62019c64",
   "outputs": [
    {
     "name": "stdout",
     "output_type": "stream",
     "text": [
      "100.0713931470284\n",
      "100.07159631004214\n"
     ]
    }
   ],
   "execution_count": 59
  },
  {
   "metadata": {
    "ExecuteTime": {
     "end_time": "2024-12-29T22:53:05.383810Z",
     "start_time": "2024-12-29T22:53:05.294367Z"
    }
   },
   "cell_type": "code",
   "source": [
    "window = int(6.5 * 60)\n",
    "moving_average = np.convolve(ps, np.ones(window) / window, mode='valid')\n",
    "plt.plot(ps)"
   ],
   "id": "a6ecd49e5113dcd1",
   "outputs": [
    {
     "data": {
      "text/plain": [
       "[<matplotlib.lines.Line2D at 0x7f0ac43ee510>]"
      ]
     },
     "execution_count": 54,
     "metadata": {},
     "output_type": "execute_result"
    },
    {
     "data": {
      "text/plain": [
       "<Figure size 640x480 with 1 Axes>"
      ],
      "image/png": "[encoded data removed]"
     },
     "metadata": {},
     "output_type": "display_data"
    }
   ],
   "execution_count": 54
  },
  {
   "metadata": {
    "ExecuteTime": {
     "end_time": "2024-12-29T22:53:35.234316Z",
     "start_time": "2024-12-29T22:53:30.437628Z"
    }
   },
   "cell_type": "code",
   "source": [
    "sim.reset()\n",
    "\n",
    "while sim.market_timestep < 1:\n",
    "    sim.step()\n",
    "    p = sim.market_variables[\"last_transaction\"]\n",
    "    ps.append(p)\n",
    "    \n",
    "plt.plot(ps)"
   ],
   "id": "18c510696c621c0c",
   "outputs": [
    {
     "name": "stdout",
     "output_type": "stream",
     "text": [
      "Couldn't find key in the tree\n",
      "Couldn't find key in the tree\n",
      "Couldn't find key in the tree\n",
      "Couldn't find key in the tree\n",
      "Couldn't find key in the tree\n",
      "Couldn't find key in the tree\n",
      "Couldn't find key in the tree\n",
      "Couldn't find key in the tree\n",
      "Couldn't find key in the tree\n",
      "Couldn't find key in the tree\n",
      "Couldn't find key in the tree\n",
      "Couldn't find key in the tree\n",
      "Couldn't find key in the tree\n",
      "Couldn't find key in the tree\n",
      "Couldn't find key in the tree\n",
      "Couldn't find key in the tree\n",
      "Couldn't find key in the tree\n",
      "Couldn't find key in the tree\n",
      "Couldn't find key in the tree\n",
      "Couldn't find key in the tree\n",
      "Couldn't find key in the tree\n",
      "Couldn't find key in the tree\n",
      "Couldn't find key in the tree\n",
      "Couldn't find key in the tree\n",
      "Couldn't find key in the tree\n",
      "Couldn't find key in the tree\n",
      "Couldn't find key in the tree\n",
      "Couldn't find key in the tree\n",
      "Couldn't find key in the tree\n",
      "Couldn't find key in the tree\n",
      "Couldn't find key in the tree\n",
      "Couldn't find key in the tree\n",
      "Couldn't find key in the tree\n",
      "Couldn't find key in the tree\n",
      "Couldn't find key in the tree\n",
      "Couldn't find key in the tree\n",
      "Couldn't find key in the tree\n",
      "Couldn't find key in the tree\n",
      "Couldn't find key in the tree\n",
      "Couldn't find key in the tree\n",
      "Couldn't find key in the tree\n",
      "Couldn't find key in the tree\n",
      "Couldn't find key in the tree\n",
      "Couldn't find key in the tree\n",
      "Couldn't find key in the tree\n",
      "Couldn't find key in the tree\n",
      "Couldn't find key in the tree\n",
      "Couldn't find key in the tree\n",
      "Couldn't find key in the tree\n",
      "Couldn't find key in the tree\n",
      "Couldn't find key in the tree\n",
      "Couldn't find key in the tree\n",
      "Couldn't find key in the tree\n",
      "Couldn't find key in the tree\n",
      "Couldn't find key in the tree\n",
      "Couldn't find key in the tree\n",
      "Couldn't find key in the tree\n",
      "Couldn't find key in the tree\n",
      "Couldn't find key in the tree\n",
      "Couldn't find key in the tree\n",
      "Couldn't find key in the tree\n",
      "Couldn't find key in the tree\n",
      "Couldn't find key in the tree\n",
      "Couldn't find key in the tree\n",
      "Couldn't find key in the tree\n",
      "Couldn't find key in the tree\n",
      "Couldn't find key in the tree\n",
      "Couldn't find key in the tree\n",
      "Couldn't find key in the tree\n",
      "Couldn't find key in the tree\n",
      "Couldn't find key in the tree\n",
      "Couldn't find key in the tree\n",
      "Couldn't find key in the tree\n",
      "Couldn't find key in the tree\n",
      "Couldn't find key in the tree\n",
      "Couldn't find key in the tree\n",
      "Couldn't find key in the tree\n",
      "Couldn't find key in the tree\n",
      "Couldn't find key in the tree\n",
      "Couldn't find key in the tree\n",
      "Couldn't find key in the tree\n",
      "Couldn't find key in the tree\n",
      "Couldn't find key in the tree\n",
      "Couldn't find key in the tree\n",
      "Couldn't find key in the tree\n",
      "Couldn't find key in the tree\n",
      "Couldn't find key in the tree\n",
      "Couldn't find key in the tree\n",
      "Couldn't find key in the tree\n",
      "Couldn't find key in the tree\n",
      "Couldn't find key in the tree\n",
      "Couldn't find key in the tree\n",
      "Couldn't find key in the tree\n",
      "Couldn't find key in the tree\n",
      "Couldn't find key in the tree\n",
      "Couldn't find key in the tree\n",
      "Couldn't find key in the tree\n",
      "Couldn't find key in the tree\n",
      "Couldn't find key in the tree\n",
      "Couldn't find key in the tree\n",
      "Couldn't find key in the tree\n",
      "Couldn't find key in the tree\n",
      "Couldn't find key in the tree\n",
      "Couldn't find key in the tree\n",
      "Couldn't find key in the tree\n",
      "Couldn't find key in the tree\n",
      "Couldn't find key in the tree\n",
      "Couldn't find key in the tree\n",
      "Couldn't find key in the tree\n",
      "Couldn't find key in the tree\n",
      "Couldn't find key in the tree\n",
      "Couldn't find key in the tree\n",
      "Couldn't find key in the tree\n",
      "Couldn't find key in the tree\n",
      "Couldn't find key in the tree\n",
      "Couldn't find key in the tree\n",
      "Couldn't find key in the tree\n",
      "Couldn't find key in the tree\n",
      "Couldn't find key in the tree\n",
      "Couldn't find key in the tree\n",
      "Couldn't find key in the tree\n",
      "Couldn't find key in the tree\n",
      "Couldn't find key in the tree\n",
      "Couldn't find key in the tree\n",
      "Couldn't find key in the tree\n",
      "Couldn't find key in the tree\n",
      "Couldn't find key in the tree\n",
      "Couldn't find key in the tree\n",
      "Couldn't find key in the tree\n",
      "Couldn't find key in the tree\n",
      "Couldn't find key in the tree\n",
      "Couldn't find key in the tree\n",
      "Couldn't find key in the tree\n",
      "Couldn't find key in the tree\n",
      "Couldn't find key in the tree\n",
      "Couldn't find key in the tree\n",
      "Couldn't find key in the tree\n",
      "Couldn't find key in the tree\n",
      "Couldn't find key in the tree\n",
      "Couldn't find key in the tree\n",
      "Couldn't find key in the tree\n",
      "Couldn't find key in the tree\n",
      "Couldn't find key in the tree\n",
      "Couldn't find key in the tree\n",
      "Couldn't find key in the tree\n",
      "Couldn't find key in the tree\n",
      "Couldn't find key in the tree\n",
      "Couldn't find key in the tree\n",
      "Couldn't find key in the tree\n",
      "Couldn't find key in the tree\n",
      "Couldn't find key in the tree\n",
      "Couldn't find key in the tree\n",
      "Couldn't find key in the tree\n",
      "Couldn't find key in the tree\n",
      "Couldn't find key in the tree\n",
      "Couldn't find key in the tree\n",
      "Couldn't find key in the tree\n",
      "Couldn't find key in the tree\n",
      "Couldn't find key in the tree\n",
      "Couldn't find key in the tree\n",
      "Couldn't find key in the tree\n",
      "Couldn't find key in the tree\n",
      "Couldn't find key in the tree\n",
      "Couldn't find key in the tree\n",
      "Couldn't find key in the tree\n",
      "Couldn't find key in the tree\n",
      "Couldn't find key in the tree\n",
      "Couldn't find key in the tree\n",
      "Couldn't find key in the tree\n",
      "Couldn't find key in the tree\n",
      "Couldn't find key in the tree\n",
      "Couldn't find key in the tree\n",
      "Couldn't find key in the tree\n",
      "Couldn't find key in the tree\n",
      "Couldn't find key in the tree\n",
      "Couldn't find key in the tree\n",
      "Couldn't find key in the tree\n",
      "Couldn't find key in the tree\n",
      "Couldn't find key in the tree\n",
      "Couldn't find key in the tree\n",
      "Couldn't find key in the tree\n",
      "Couldn't find key in the tree\n",
      "Couldn't find key in the tree\n",
      "Couldn't find key in the tree\n",
      "Couldn't find key in the tree\n",
      "Couldn't find key in the tree\n",
      "Couldn't find key in the tree\n",
      "Couldn't find key in the tree\n",
      "Couldn't find key in the tree\n",
      "Couldn't find key in the tree\n",
      "Couldn't find key in the tree\n",
      "Couldn't find key in the tree\n",
      "Couldn't find key in the tree\n",
      "Couldn't find key in the tree\n",
      "Couldn't find key in the tree\n",
      "Couldn't find key in the tree\n",
      "Couldn't find key in the tree\n",
      "Couldn't find key in the tree\n",
      "Couldn't find key in the tree\n",
      "Couldn't find key in the tree\n",
      "Couldn't find key in the tree\n",
      "Couldn't find key in the tree\n",
      "Couldn't find key in the tree\n",
      "Couldn't find key in the tree\n",
      "Couldn't find key in the tree\n",
      "Couldn't find key in the tree\n",
      "Couldn't find key in the tree\n",
      "Couldn't find key in the tree\n",
      "Couldn't find key in the tree\n",
      "Couldn't find key in the tree\n",
      "Couldn't find key in the tree\n",
      "Couldn't find key in the tree\n",
      "Couldn't find key in the tree\n",
      "Couldn't find key in the tree\n",
      "Couldn't find key in the tree\n",
      "Couldn't find key in the tree\n",
      "Couldn't find key in the tree\n",
      "Couldn't find key in the tree\n",
      "Couldn't find key in the tree\n",
      "Couldn't find key in the tree\n",
      "Couldn't find key in the tree\n",
      "Couldn't find key in the tree\n",
      "Couldn't find key in the tree\n",
      "Couldn't find key in the tree\n",
      "Couldn't find key in the tree\n",
      "Couldn't find key in the tree\n",
      "Couldn't find key in the tree\n",
      "Couldn't find key in the tree\n",
      "Couldn't find key in the tree\n",
      "Couldn't find key in the tree\n",
      "Couldn't find key in the tree\n",
      "Couldn't find key in the tree\n",
      "Couldn't find key in the tree\n",
      "Couldn't find key in the tree\n",
      "Couldn't find key in the tree\n",
      "Couldn't find key in the tree\n",
      "Couldn't find key in the tree\n",
      "Couldn't find key in the tree\n",
      "Couldn't find key in the tree\n",
      "Couldn't find key in the tree\n",
      "Couldn't find key in the tree\n",
      "Couldn't find key in the tree\n",
      "Couldn't find key in the tree\n",
      "Couldn't find key in the tree\n",
      "Couldn't find key in the tree\n",
      "Couldn't find key in the tree\n",
      "Couldn't find key in the tree\n",
      "Couldn't find key in the tree\n",
      "Couldn't find key in the tree\n",
      "Couldn't find key in the tree\n",
      "Couldn't find key in the tree\n",
      "Couldn't find key in the tree\n",
      "Couldn't find key in the tree\n",
      "Couldn't find key in the tree\n",
      "Couldn't find key in the tree\n",
      "Couldn't find key in the tree\n",
      "Couldn't find key in the tree\n",
      "Couldn't find key in the tree\n",
      "Couldn't find key in the tree\n",
      "Couldn't find key in the tree\n",
      "Couldn't find key in the tree\n",
      "Couldn't find key in the tree\n",
      "Couldn't find key in the tree\n",
      "Couldn't find key in the tree\n",
      "Couldn't find key in the tree\n",
      "Couldn't find key in the tree\n",
      "Couldn't find key in the tree\n",
      "Couldn't find key in the tree\n",
      "Couldn't find key in the tree\n",
      "Couldn't find key in the tree\n",
      "Couldn't find key in the tree\n",
      "Couldn't find key in the tree\n",
      "Couldn't find key in the tree\n",
      "Couldn't find key in the tree\n",
      "Couldn't find key in the tree\n",
      "Couldn't find key in the tree\n",
      "Couldn't find key in the tree\n",
      "Couldn't find key in the tree\n",
      "Couldn't find key in the tree\n",
      "Couldn't find key in the tree\n",
      "Couldn't find key in the tree\n",
      "Couldn't find key in the tree\n",
      "Couldn't find key in the tree\n",
      "Couldn't find key in the tree\n",
      "Couldn't find key in the tree\n",
      "Couldn't find key in the tree\n",
      "Couldn't find key in the tree\n",
      "Couldn't find key in the tree\n",
      "Couldn't find key in the tree\n",
      "Couldn't find key in the tree\n",
      "Couldn't find key in the tree\n",
      "Couldn't find key in the tree\n",
      "Couldn't find key in the tree\n",
      "Couldn't find key in the tree\n",
      "Couldn't find key in the tree\n",
      "Couldn't find key in the tree\n",
      "Couldn't find key in the tree\n",
      "Couldn't find key in the tree\n",
      "Couldn't find key in the tree\n",
      "Couldn't find key in the tree\n",
      "Couldn't find key in the tree\n",
      "Couldn't find key in the tree\n",
      "Couldn't find key in the tree\n",
      "Couldn't find key in the tree\n",
      "Couldn't find key in the tree\n",
      "Couldn't find key in the tree\n",
      "Couldn't find key in the tree\n",
      "Couldn't find key in the tree\n",
      "Couldn't find key in the tree\n",
      "Couldn't find key in the tree\n",
      "Couldn't find key in the tree\n",
      "Couldn't find key in the tree\n",
      "Couldn't find key in the tree\n",
      "Couldn't find key in the tree\n",
      "Couldn't find key in the tree\n",
      "Couldn't find key in the tree\n",
      "Couldn't find key in the tree\n",
      "Couldn't find key in the tree\n",
      "Couldn't find key in the tree\n",
      "Couldn't find key in the tree\n",
      "Couldn't find key in the tree\n",
      "Couldn't find key in the tree\n",
      "Couldn't find key in the tree\n",
      "Couldn't find key in the tree\n",
      "Couldn't find key in the tree\n",
      "Couldn't find key in the tree\n",
      "Couldn't find key in the tree\n",
      "Couldn't find key in the tree\n",
      "Couldn't find key in the tree\n",
      "Couldn't find key in the tree\n",
      "Couldn't find key in the tree\n",
      "Couldn't find key in the tree\n",
      "Couldn't find key in the tree\n",
      "Couldn't find key in the tree\n",
      "Couldn't find key in the tree\n",
      "Couldn't find key in the tree\n",
      "Couldn't find key in the tree\n",
      "Couldn't find key in the tree\n",
      "Couldn't find key in the tree\n",
      "Couldn't find key in the tree\n",
      "Couldn't find key in the tree\n",
      "Couldn't find key in the tree\n",
      "Couldn't find key in the tree\n",
      "Couldn't find key in the tree\n",
      "Couldn't find key in the tree\n",
      "Couldn't find key in the tree\n",
      "Couldn't find key in the tree\n",
      "Couldn't find key in the tree\n",
      "Couldn't find key in the tree\n",
      "Couldn't find key in the tree\n",
      "Couldn't find key in the tree\n",
      "Couldn't find key in the tree\n",
      "Couldn't find key in the tree\n",
      "Couldn't find key in the tree\n",
      "Couldn't find key in the tree\n",
      "Couldn't find key in the tree\n",
      "Couldn't find key in the tree\n",
      "Couldn't find key in the tree\n",
      "Couldn't find key in the tree\n",
      "Couldn't find key in the tree\n",
      "Couldn't find key in the tree\n",
      "Couldn't find key in the tree\n",
      "Couldn't find key in the tree\n",
      "Couldn't find key in the tree\n",
      "Couldn't find key in the tree\n",
      "Couldn't find key in the tree\n",
      "Couldn't find key in the tree\n",
      "Couldn't find key in the tree\n",
      "Couldn't find key in the tree\n",
      "Couldn't find key in the tree\n",
      "Couldn't find key in the tree\n",
      "Couldn't find key in the tree\n",
      "Couldn't find key in the tree\n",
      "Couldn't find key in the tree\n",
      "Couldn't find key in the tree\n",
      "Couldn't find key in the tree\n",
      "Couldn't find key in the tree\n",
      "Couldn't find key in the tree\n",
      "Couldn't find key in the tree\n",
      "Couldn't find key in the tree\n",
      "Couldn't find key in the tree\n",
      "Couldn't find key in the tree\n",
      "Couldn't find key in the tree\n",
      "Couldn't find key in the tree\n",
      "Couldn't find key in the tree\n",
      "Couldn't find key in the tree\n",
      "Couldn't find key in the tree\n",
      "Couldn't find key in the tree\n",
      "Couldn't find key in the tree\n",
      "Couldn't find key in the tree\n",
      "Couldn't find key in the tree\n",
      "Couldn't find key in the tree\n",
      "Couldn't find key in the tree\n",
      "Couldn't find key in the tree\n",
      "Couldn't find key in the tree\n",
      "Couldn't find key in the tree\n",
      "Couldn't find key in the tree\n",
      "Couldn't find key in the tree\n",
      "Couldn't find key in the tree\n",
      "Couldn't find key in the tree\n",
      "Couldn't find key in the tree\n",
      "Couldn't find key in the tree\n",
      "Couldn't find key in the tree\n",
      "Couldn't find key in the tree\n",
      "Couldn't find key in the tree\n",
      "Couldn't find key in the tree\n",
      "Couldn't find key in the tree\n",
      "Couldn't find key in the tree\n",
      "Couldn't find key in the tree\n",
      "Couldn't find key in the tree\n",
      "Couldn't find key in the tree\n",
      "Couldn't find key in the tree\n",
      "Couldn't find key in the tree\n",
      "Couldn't find key in the tree\n",
      "Couldn't find key in the tree\n",
      "Couldn't find key in the tree\n",
      "Couldn't find key in the tree\n",
      "Couldn't find key in the tree\n",
      "Couldn't find key in the tree\n",
      "Couldn't find key in the tree\n",
      "Couldn't find key in the tree\n",
      "Couldn't find key in the tree\n",
      "Couldn't find key in the tree\n",
      "Couldn't find key in the tree\n",
      "Couldn't find key in the tree\n",
      "Couldn't find key in the tree\n",
      "Couldn't find key in the tree\n",
      "Couldn't find key in the tree\n",
      "Couldn't find key in the tree\n",
      "Couldn't find key in the tree\n",
      "Couldn't find key in the tree\n",
      "Couldn't find key in the tree\n",
      "Couldn't find key in the tree\n",
      "Couldn't find key in the tree\n",
      "Couldn't find key in the tree\n",
      "Couldn't find key in the tree\n",
      "Couldn't find key in the tree\n",
      "Couldn't find key in the tree\n",
      "Couldn't find key in the tree\n",
      "Couldn't find key in the tree\n",
      "Couldn't find key in the tree\n",
      "Couldn't find key in the tree\n",
      "Couldn't find key in the tree\n",
      "Couldn't find key in the tree\n",
      "Couldn't find key in the tree\n",
      "Couldn't find key in the tree\n",
      "Couldn't find key in the tree\n",
      "Couldn't find key in the tree\n",
      "Couldn't find key in the tree\n",
      "Couldn't find key in the tree\n",
      "Couldn't find key in the tree\n",
      "Couldn't find key in the tree\n",
      "Couldn't find key in the tree\n",
      "Couldn't find key in the tree\n",
      "Couldn't find key in the tree\n",
      "Couldn't find key in the tree\n",
      "Couldn't find key in the tree\n",
      "Couldn't find key in the tree\n",
      "Couldn't find key in the tree\n",
      "Couldn't find key in the tree\n",
      "Couldn't find key in the tree\n",
      "Couldn't find key in the tree\n",
      "Couldn't find key in the tree\n",
      "Couldn't find key in the tree\n",
      "Couldn't find key in the tree\n",
      "Couldn't find key in the tree\n",
      "Couldn't find key in the tree\n",
      "Couldn't find key in the tree\n",
      "Couldn't find key in the tree\n",
      "Couldn't find key in the tree\n",
      "Couldn't find key in the tree\n",
      "Couldn't find key in the tree\n",
      "Couldn't find key in the tree\n",
      "Couldn't find key in the tree\n",
      "Couldn't find key in the tree\n",
      "Couldn't find key in the tree\n",
      "Couldn't find key in the tree\n",
      "Couldn't find key in the tree\n"
     ]
    },
    {
     "ename": "KeyboardInterrupt",
     "evalue": "",
     "output_type": "error",
     "traceback": [
      "\u001B[0;31m---------------------------------------------------------------------------\u001B[0m",
      "\u001B[0;31mKeyboardInterrupt\u001B[0m                         Traceback (most recent call last)",
      "Cell \u001B[0;32mIn[55], line 4\u001B[0m\n\u001B[1;32m      1\u001B[0m sim\u001B[38;5;241m.\u001B[39mreset()\n\u001B[1;32m      3\u001B[0m \u001B[38;5;28;01mwhile\u001B[39;00m sim\u001B[38;5;241m.\u001B[39mmarket_timestep \u001B[38;5;241m<\u001B[39m \u001B[38;5;241m1\u001B[39m:\n\u001B[0;32m----> 4\u001B[0m     \u001B[43msim\u001B[49m\u001B[38;5;241;43m.\u001B[39;49m\u001B[43mstep\u001B[49m\u001B[43m(\u001B[49m\u001B[43m)\u001B[49m\n\u001B[1;32m      5\u001B[0m     p \u001B[38;5;241m=\u001B[39m sim\u001B[38;5;241m.\u001B[39mmarket_variables[\u001B[38;5;124m\"\u001B[39m\u001B[38;5;124mlast_transaction\u001B[39m\u001B[38;5;124m\"\u001B[39m]\n\u001B[1;32m      6\u001B[0m     ps\u001B[38;5;241m.\u001B[39mappend(p)\n",
      "File \u001B[0;32m~/Workspace/research/rl-mm/src/env/simulators/market_simulator.py:117\u001B[0m, in \u001B[0;36mMarketSimulator.step\u001B[0;34m(self)\u001B[0m\n\u001B[1;32m    115\u001B[0m \u001B[38;5;28mself\u001B[39m\u001B[38;5;241m.\u001B[39mprevious_event \u001B[38;5;241m=\u001B[39m \u001B[38;5;28mself\u001B[39m\u001B[38;5;241m.\u001B[39mnext_event\n\u001B[1;32m    116\u001B[0m orders \u001B[38;5;241m=\u001B[39m \u001B[38;5;28mself\u001B[39m\u001B[38;5;241m.\u001B[39m_sample_orders(\u001B[38;5;28mself\u001B[39m\u001B[38;5;241m.\u001B[39mmarket_variables[\u001B[38;5;124m'\u001B[39m\u001B[38;5;124mmidprice\u001B[39m\u001B[38;5;124m'\u001B[39m])\n\u001B[0;32m--> 117\u001B[0m \u001B[38;5;28mself\u001B[39m\u001B[38;5;241m.\u001B[39mnext_event \u001B[38;5;241m=\u001B[39m \u001B[38;5;28;43mself\u001B[39;49m\u001B[38;5;241;43m.\u001B[39;49m\u001B[43mevent_process\u001B[49m\u001B[38;5;241;43m.\u001B[39;49m\u001B[43msample\u001B[49m\u001B[43m(\u001B[49m\u001B[38;5;28;43mself\u001B[39;49m\u001B[38;5;241;43m.\u001B[39;49m\u001B[43mmarket_variables\u001B[49m\u001B[43m[\u001B[49m\u001B[38;5;124;43m'\u001B[39;49m\u001B[38;5;124;43mtimestep\u001B[39;49m\u001B[38;5;124;43m'\u001B[39;49m\u001B[43m]\u001B[49m\u001B[43m,\u001B[49m\u001B[43m \u001B[49m\u001B[38;5;28;43mself\u001B[39;49m\u001B[38;5;241;43m.\u001B[39;49m\u001B[43mdt\u001B[49m\u001B[43m,\u001B[49m\n\u001B[1;32m    118\u001B[0m \u001B[43m                                            \u001B[49m\u001B[43mnp\u001B[49m\u001B[38;5;241;43m.\u001B[39;49m\u001B[43marray\u001B[49m\u001B[43m(\u001B[49m\u001B[38;5;28;43mself\u001B[39;49m\u001B[38;5;241;43m.\u001B[39;49m\u001B[43mmarket_variables\u001B[49m\u001B[43m[\u001B[49m\u001B[38;5;124;43m'\u001B[39;49m\u001B[38;5;124;43mevents\u001B[39;49m\u001B[38;5;124;43m'\u001B[39;49m\u001B[43m]\u001B[49m\u001B[43m)\u001B[49m\u001B[43m)\u001B[49m\n\u001B[1;32m    120\u001B[0m \u001B[38;5;66;03m# shuffle orders\u001B[39;00m\n\u001B[1;32m    121\u001B[0m np\u001B[38;5;241m.\u001B[39mrandom\u001B[38;5;241m.\u001B[39mshuffle(orders)\n",
      "File \u001B[0;32m~/Workspace/research/rl-mm/src/env/dynamics/hawkes.py:54\u001B[0m, in \u001B[0;36mHawkes.sample\u001B[0;34m(self, x, dt, events, size, *args, **kwargs)\u001B[0m\n\u001B[1;32m     52\u001B[0m events \u001B[38;5;241m=\u001B[39m np\u001B[38;5;241m.\u001B[39marray(events) \u001B[38;5;28;01mif\u001B[39;00m events \u001B[38;5;129;01mis\u001B[39;00m \u001B[38;5;129;01mnot\u001B[39;00m \u001B[38;5;28;01mNone\u001B[39;00m \u001B[38;5;28;01melse\u001B[39;00m np\u001B[38;5;241m.\u001B[39marray([])\n\u001B[1;32m     53\u001B[0m \u001B[38;5;28;01mif\u001B[39;00m \u001B[38;5;28misinstance\u001B[39m(x, (\u001B[38;5;28mint\u001B[39m, \u001B[38;5;28mfloat\u001B[39m)) \u001B[38;5;129;01mand\u001B[39;00m \u001B[38;5;129;01mnot\u001B[39;00m \u001B[38;5;28misinstance\u001B[39m(x, \u001B[38;5;28mcomplex\u001B[39m):\n\u001B[0;32m---> 54\u001B[0m     \u001B[38;5;28;01mreturn\u001B[39;00m x \u001B[38;5;241m+\u001B[39m np\u001B[38;5;241m.\u001B[39mrandom\u001B[38;5;241m.\u001B[39mexponential(dt \u001B[38;5;241m/\u001B[39m \u001B[38;5;28;43mself\u001B[39;49m\u001B[38;5;241;43m.\u001B[39;49m\u001B[43mintensity\u001B[49m\u001B[43m(\u001B[49m\u001B[43mx\u001B[49m\u001B[43m,\u001B[49m\u001B[43m \u001B[49m\u001B[43mdt\u001B[49m\u001B[43m,\u001B[49m\u001B[43m \u001B[49m\u001B[43mevents\u001B[49m\u001B[43m)\u001B[49m, size)\n\u001B[1;32m     55\u001B[0m \u001B[38;5;28;01melif\u001B[39;00m \u001B[38;5;28misinstance\u001B[39m(x, np\u001B[38;5;241m.\u001B[39mndarray) \u001B[38;5;129;01mand\u001B[39;00m size \u001B[38;5;129;01mis\u001B[39;00m \u001B[38;5;129;01mnot\u001B[39;00m \u001B[38;5;28;01mNone\u001B[39;00m:\n\u001B[1;32m     56\u001B[0m     \u001B[38;5;28;01massert\u001B[39;00m x\u001B[38;5;241m.\u001B[39mndim \u001B[38;5;241m==\u001B[39m \u001B[38;5;241m1\u001B[39m, \u001B[38;5;124m\"\u001B[39m\u001B[38;5;124mx must be a 1D array.\u001B[39m\u001B[38;5;124m\"\u001B[39m\n",
      "File \u001B[0;32m~/Workspace/research/rl-mm/src/env/dynamics/hawkes.py:36\u001B[0m, in \u001B[0;36mHawkes.intensity\u001B[0;34m(self, x, dt, events)\u001B[0m\n\u001B[1;32m     24\u001B[0m \u001B[38;5;28;01mdef\u001B[39;00m \u001B[38;5;21mintensity\u001B[39m(\u001B[38;5;28mself\u001B[39m, x, dt, events) \u001B[38;5;241m-\u001B[39m\u001B[38;5;241m>\u001B[39m np\u001B[38;5;241m.\u001B[39mndarray:\n\u001B[1;32m     25\u001B[0m \u001B[38;5;250m    \u001B[39m\u001B[38;5;124;03m\"\"\"\u001B[39;00m\n\u001B[1;32m     26\u001B[0m \u001B[38;5;124;03m    Compute the intensity of the Hawkes process at a given point in time.\u001B[39;00m\n\u001B[1;32m     27\u001B[0m \n\u001B[0;32m   (...)\u001B[0m\n\u001B[1;32m     33\u001B[0m \u001B[38;5;124;03m        np.ndarray: Intensity of the Hawkes process at a given point in time.\u001B[39;00m\n\u001B[1;32m     34\u001B[0m \u001B[38;5;124;03m    \"\"\"\u001B[39;00m\n\u001B[1;32m     35\u001B[0m     \u001B[38;5;28;01mreturn\u001B[39;00m (\u001B[38;5;28mself\u001B[39m\u001B[38;5;241m.\u001B[39mbase_intensity\n\u001B[0;32m---> 36\u001B[0m             \u001B[38;5;241m+\u001B[39m \u001B[38;5;28mself\u001B[39m\u001B[38;5;241m.\u001B[39mbranching_ratio \u001B[38;5;241m*\u001B[39m np\u001B[38;5;241m.\u001B[39msum(\u001B[43mnp\u001B[49m\u001B[38;5;241;43m.\u001B[39;49m\u001B[43mexp\u001B[49m\u001B[43m(\u001B[49m\u001B[38;5;241;43m-\u001B[39;49m\u001B[38;5;28;43mself\u001B[39;49m\u001B[38;5;241;43m.\u001B[39;49m\u001B[43mdecay\u001B[49m\u001B[43m \u001B[49m\u001B[38;5;241;43m*\u001B[39;49m\u001B[43m \u001B[49m\u001B[43m(\u001B[49m\u001B[43mx\u001B[49m\u001B[43m \u001B[49m\u001B[38;5;241;43m-\u001B[39;49m\u001B[43m \u001B[49m\u001B[43mevents\u001B[49m\u001B[43m)\u001B[49m\u001B[43m \u001B[49m\u001B[38;5;241;43m/\u001B[39;49m\u001B[43m \u001B[49m\u001B[43mdt\u001B[49m\u001B[43m)\u001B[49m, axis\u001B[38;5;241m=\u001B[39m\u001B[38;5;241m0\u001B[39m))\n",
      "\u001B[0;31mKeyboardInterrupt\u001B[0m: "
     ]
    }
   ],
   "execution_count": 55
  },
  {
   "metadata": {},
   "cell_type": "code",
   "outputs": [],
   "execution_count": null,
   "source": "dt",
   "id": "505e4b60c43c81a"
  },
  {
   "metadata": {
    "ExecuteTime": {
     "end_time": "2024-12-30T03:16:02.768980Z",
     "start_time": "2024-12-30T03:16:02.508325Z"
    }
   },
   "cell_type": "code",
   "source": [
    "p = starting_value\n",
    "ps = []\n",
    "dt = dt\n",
    "sim.bid_process.mean = .21\n",
    "t = 0\n",
    "T = 1\n",
    "sim.bid_process.std = .18\n",
    "while t < T: \n",
    "    p = sim.bid_process.sample(p, dt)\n",
    "    ps.append(p)\n",
    "    t += dt\n",
    "\n",
    "returns = np.diff(ps) / ps[:-1]"
   ],
   "id": "b45766a5dedc7f06",
   "outputs": [],
   "execution_count": 56
  },
  {
   "metadata": {
    "ExecuteTime": {
     "end_time": "2024-12-30T03:16:28.208513Z",
     "start_time": "2024-12-30T03:16:28.205350Z"
    }
   },
   "cell_type": "code",
   "source": "np.std(returns) * np.sqrt(1 / dt)",
   "id": "78f8922b4651580b",
   "outputs": [
    {
     "data": {
      "text/plain": [
       "0.1801636434432552"
      ]
     },
     "execution_count": 60,
     "metadata": {},
     "output_type": "execute_result"
    }
   ],
   "execution_count": 60
  },
  {
   "metadata": {
    "ExecuteTime": {
     "end_time": "2024-12-29T22:18:20.910919Z",
     "start_time": "2024-12-29T22:18:18.044978Z"
    }
   },
   "cell_type": "code",
   "outputs": [
    {
     "name": "stdout",
     "output_type": "stream",
     "text": [
      "[1.47486661e-03 4.02262019e+00]\n",
      "[7.32313937e-05 3.76342027e+00]\n",
      "[7.75264128e-06 3.75342059e+00]\n"
     ]
    }
   ],
   "execution_count": 109,
   "source": [
    "def run_sim(mean, std, dt):\n",
    "    p = starting_value\n",
    "    ps = []\n",
    "    dt = dt\n",
    "    sim.bid_process.mean = mean  # 1% per 1\n",
    "    t = 0\n",
    "    T = 1\n",
    "    sim.bid_process.std = std\n",
    "    while t < T: \n",
    "        p = sim.bid_process.sample(p, dt)\n",
    "        ps.append(p)\n",
    "        t += dt\n",
    "    \n",
    "    returns = np.diff(ps) / ps[:-1]\n",
    "    \n",
    "    return np.mean(returns), np.std(ps)\n",
    "\n",
    "mean, std = 0.01, 0.1\n",
    "print(np.mean([run_sim(mean, std, 1e-1) for _ in range(1000)], axis=0))\n",
    "print(np.mean([run_sim(mean, std, 1e-2) for _ in range(1000)], axis=0))\n",
    "print(np.mean([run_sim(mean, std, 1e-3) for _ in range(1000)], axis=0))"
   ],
   "id": "1a94f3ac6630c349"
  },
  {
   "metadata": {
    "ExecuteTime": {
     "end_time": "2024-12-29T22:20:56.451643Z",
     "start_time": "2024-12-29T22:20:56.448517Z"
    }
   },
   "cell_type": "code",
   "source": [
    "def simple_sim(dt):\n",
    "    p = starting_value\n",
    "    ps = []\n",
    "    dt = dt\n",
    "    sim.bid_process.mean = mean  # 1% per 1\n",
    "    t = 0\n",
    "    T = 1\n",
    "    sim.bid_process.std = std\n",
    "    while t < T: \n",
    "        p = sim.bid_process.sample(p, dt)\n",
    "        ps.append(p)\n",
    "        t += dt\n",
    "    \n",
    "    plt.plot(ps)"
   ],
   "id": "f97b9c52925f28a6",
   "outputs": [],
   "execution_count": 112
  },
  {
   "metadata": {
    "ExecuteTime": {
     "end_time": "2024-12-29T22:21:13.247400Z",
     "start_time": "2024-12-29T22:21:13.180952Z"
    }
   },
   "cell_type": "code",
   "source": "simple_sim(1e-1)",
   "id": "cba135c0bd9f8477",
   "outputs": [
    {
     "data": {
      "text/plain": [
       "<Figure size 640x480 with 1 Axes>"
      ],
      "image/png": "[encoded data removed]"
     },
     "metadata": {},
     "output_type": "display_data"
    }
   ],
   "execution_count": 118
  },
  {
   "metadata": {
    "ExecuteTime": {
     "end_time": "2024-12-29T22:21:23.862517Z",
     "start_time": "2024-12-29T22:21:23.796773Z"
    }
   },
   "cell_type": "code",
   "source": "simple_sim(1e-2)",
   "id": "8e5fd76577c2784b",
   "outputs": [
    {
     "data": {
      "text/plain": [
       "<Figure size 640x480 with 1 Axes>"
      ],
      "image/png": "[encoded data removed]"
     },
     "metadata": {},
     "output_type": "display_data"
    }
   ],
   "execution_count": 122
  },
  {
   "metadata": {
    "ExecuteTime": {
     "end_time": "2024-12-29T22:21:21.276013Z",
     "start_time": "2024-12-29T22:21:21.199495Z"
    }
   },
   "cell_type": "code",
   "source": "simple_sim(1e-3)",
   "id": "22b9236816b9bcc2",
   "outputs": [
    {
     "data": {
      "text/plain": [
       "<Figure size 640x480 with 1 Axes>"
      ],
      "image/png": "[encoded data removed]"
     },
     "metadata": {},
     "output_type": "display_data"
    }
   ],
   "execution_count": 121
  },
  {
   "metadata": {},
   "cell_type": "code",
   "outputs": [],
   "execution_count": null,
   "source": "",
   "id": "d0a5f75d500471c"
  }
 ],
 "metadata": {
  "kernelspec": {
   "display_name": "Python 3",
   "language": "python",
   "name": "python3"
  },
  "language_info": {
   "codemirror_mode": {
    "name": "ipython",
    "version": 2
   },
   "file_extension": ".py",
   "mimetype": "text/x-python",
   "name": "python",
   "nbconvert_exporter": "python",
   "pygments_lexer": "ipython2",
   "version": "2.7.6"
  }
 },
 "nbformat": 4,
 "nbformat_minor": 5
}
