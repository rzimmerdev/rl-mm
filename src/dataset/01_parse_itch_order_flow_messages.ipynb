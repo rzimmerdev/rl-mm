{
 "cells": [
  {
   "cell_type": "markdown",
   "metadata": {
    "pycharm": {
     "name": "#%% md\n"
    }
   },
   "source": [
    "# Working with Order Book Data: NASDAQ ITCH"
   ]
  },
  {
   "cell_type": "markdown",
   "metadata": {
    "pycharm": {
     "name": "#%% md\n"
    }
   },
   "source": [
    "The primary source of market data is the order book, which is continuously updated in real-time throughout the day to reflect all trading activity. Exchanges typically offer this data as a real-time service and may provide some historical data for free.\n",
    "\n",
    "The trading activity is reflected in numerous messages about trade orders sent by market participants. These messages typically conform to the electronic Financial Information eXchange (FIX) communications protocol for real-time exchange of securities transactions and market data or a native exchange protocol. "
   ]
  },
  {
   "cell_type": "markdown",
   "metadata": {
    "pycharm": {
     "name": "#%% md\n"
    }
   },
   "source": [
    "## Background"
   ]
  },
  {
   "cell_type": "markdown",
   "metadata": {
    "pycharm": {
     "name": "#%% md\n"
    }
   },
   "source": [
    "### The FIX Protocol"
   ]
  },
  {
   "cell_type": "markdown",
   "metadata": {
    "pycharm": {
     "name": "#%% md\n"
    }
   },
   "source": [
    "Just like SWIFT is the message protocol for back-office (example, for trade-settlement) messaging, the [FIX protocol](https://www.fixtrading.org/standards/) is the de facto messaging standard for communication before and during, trade execution between exchanges, banks, brokers, clearing firms, and other market participants. Fidelity Investments and Salomon Brothers introduced FIX in 1992 to facilitate electronic communication between broker-dealers and institutional clients who by then exchanged information over the phone.\n",
    "\n",
    "It became popular in global equity markets before expanding into foreign exchange, fixed income and derivatives markets, and further into post-trade to support straight-through processing. Exchanges provide access to FIX messages as a real-time data feed that is parsed by algorithmic traders to track market activity and, for example, identify the footprint of market participants and anticipate their next move. "
   ]
  },
  {
   "cell_type": "markdown",
   "metadata": {
    "pycharm": {
     "name": "#%% md\n"
    }
   },
   "source": [
    "### Nasdaq TotalView-ITCH Order Book data"
   ]
  },
  {
   "cell_type": "markdown",
   "metadata": {
    "pycharm": {
     "name": "#%% md\n"
    }
   },
   "source": [
    "While FIX has a dominant large market share, exchanges also offer native protocols. The Nasdaq offers a [TotalView ITCH direct data-feed protocol](http://www.nasdaqtrader.com/content/technicalsupport/specifications/dataproducts/NQTVITCHspecification.pdf) that allows subscribers to track \n",
    "individual orders for equity instruments from placement to execution or cancellation.\n",
    "\n",
    "As a result, it allows for the reconstruction of the order book that keeps track of the list of active-limit buy and sell orders for a specific security or financial instrument. The order book reveals the market depth throughout the day by listing the number of shares being bid or offered at each price point. It may also identify the market participant responsible for specific buy and sell orders unless it is placed anonymously. Market depth is a key indicator of liquidity and the potential price impact of sizable market orders. "
   ]
  },
  {
   "cell_type": "markdown",
   "metadata": {
    "pycharm": {
     "name": "#%% md\n"
    }
   },
   "source": [
    "The ITCH v5.0 specification declares over 20 message types related to system events, stock characteristics, the placement and modification of limit orders, and trade execution. It also contains information about the net order imbalance before the open and closing cross."
   ]
  },
  {
   "cell_type": "code",
   "execution_count": 49,
   "metadata": {
    "ExecuteTime": {
     "end_time": "2024-07-26T04:11:05.458731Z",
     "start_time": "2024-07-26T04:11:02.880435Z"
    }
   },
   "outputs": [
    {
     "name": "stdout",
     "output_type": "stream",
     "text": [
      "Requirement already satisfied: pandas in /home/rzimmerdev/Workspace/ext/miniconda3/envs/quant/lib/python3.10/site-packages (1.5.3)\r\n",
      "Requirement already satisfied: matplotlib in /home/rzimmerdev/Workspace/ext/miniconda3/envs/quant/lib/python3.10/site-packages (3.8.4)\r\n",
      "Requirement already satisfied: seaborn in /home/rzimmerdev/Workspace/ext/miniconda3/envs/quant/lib/python3.10/site-packages (0.13.2)\r\n",
      "Requirement already satisfied: openpyxl in /home/rzimmerdev/Workspace/ext/miniconda3/envs/quant/lib/python3.10/site-packages (3.1.2)\r\n",
      "Requirement already satisfied: tables in /home/rzimmerdev/Workspace/ext/miniconda3/envs/quant/lib/python3.10/site-packages (3.9.2)\r\n",
      "Requirement already satisfied: python-dateutil>=2.8.1 in /home/rzimmerdev/Workspace/ext/miniconda3/envs/quant/lib/python3.10/site-packages (from pandas) (2.8.2)\r\n",
      "Requirement already satisfied: pytz>=2020.1 in /home/rzimmerdev/Workspace/ext/miniconda3/envs/quant/lib/python3.10/site-packages (from pandas) (2024.1)\r\n",
      "Requirement already satisfied: numpy>=1.21.0 in /home/rzimmerdev/Workspace/ext/miniconda3/envs/quant/lib/python3.10/site-packages (from pandas) (1.23.5)\r\n",
      "Requirement already satisfied: contourpy>=1.0.1 in /home/rzimmerdev/Workspace/ext/miniconda3/envs/quant/lib/python3.10/site-packages (from matplotlib) (1.2.1)\r\n",
      "Requirement already satisfied: cycler>=0.10 in /home/rzimmerdev/Workspace/ext/miniconda3/envs/quant/lib/python3.10/site-packages (from matplotlib) (0.12.1)\r\n",
      "Requirement already satisfied: fonttools>=4.22.0 in /home/rzimmerdev/Workspace/ext/miniconda3/envs/quant/lib/python3.10/site-packages (from matplotlib) (4.51.0)\r\n",
      "Requirement already satisfied: kiwisolver>=1.3.1 in /home/rzimmerdev/Workspace/ext/miniconda3/envs/quant/lib/python3.10/site-packages (from matplotlib) (1.4.5)\r\n",
      "Requirement already satisfied: packaging>=20.0 in /home/rzimmerdev/Workspace/ext/miniconda3/envs/quant/lib/python3.10/site-packages (from matplotlib) (23.2)\r\n",
      "Requirement already satisfied: pillow>=8 in /home/rzimmerdev/Workspace/ext/miniconda3/envs/quant/lib/python3.10/site-packages (from matplotlib) (9.4.0)\r\n",
      "Requirement already satisfied: pyparsing>=2.3.1 in /home/rzimmerdev/Workspace/ext/miniconda3/envs/quant/lib/python3.10/site-packages (from matplotlib) (3.1.2)\r\n",
      "Requirement already satisfied: et-xmlfile in /home/rzimmerdev/Workspace/ext/miniconda3/envs/quant/lib/python3.10/site-packages (from openpyxl) (1.1.0)\r\n",
      "Requirement already satisfied: numexpr>=2.6.2 in /home/rzimmerdev/Workspace/ext/miniconda3/envs/quant/lib/python3.10/site-packages (from tables) (2.9.0)\r\n",
      "Requirement already satisfied: py-cpuinfo in /home/rzimmerdev/Workspace/ext/miniconda3/envs/quant/lib/python3.10/site-packages (from tables) (9.0.0)\r\n",
      "Requirement already satisfied: six>=1.5 in /home/rzimmerdev/Workspace/ext/miniconda3/envs/quant/lib/python3.10/site-packages (from python-dateutil>=2.8.1->pandas) (1.16.0)\r\n",
      "Note: you may need to restart the kernel to use updated packages.\n"
     ]
    }
   ],
   "source": [
    "%pip install pandas matplotlib seaborn openpyxl tables"
   ]
  },
  {
   "cell_type": "code",
   "execution_count": 50,
   "metadata": {
    "pycharm": {
     "name": "#%%\n"
    },
    "ExecuteTime": {
     "end_time": "2024-07-26T04:11:05.462606Z",
     "start_time": "2024-07-26T04:11:05.460099Z"
    }
   },
   "outputs": [],
   "source": [
    "import warnings\n",
    "warnings.filterwarnings('ignore')"
   ]
  },
  {
   "cell_type": "code",
   "execution_count": 51,
   "metadata": {
    "pycharm": {
     "name": "#%%\n"
    },
    "ExecuteTime": {
     "end_time": "2024-07-26T04:11:05.469144Z",
     "start_time": "2024-07-26T04:11:05.463371Z"
    }
   },
   "outputs": [],
   "source": [
    "#Only in ipython/jupyter: %matplotlib inline \n",
    "# Display inline matplotlib plots with IPython\n",
    "from IPython import get_ipython\n",
    "get_ipython().run_line_magic('matplotlib', 'inline')\n",
    "import gzip\n",
    "import shutil\n",
    "from struct import unpack\n",
    "from collections import namedtuple, Counter, defaultdict\n",
    "from pathlib import Path\n",
    "from urllib.request import urlretrieve\n",
    "from urllib.parse import urljoin\n",
    "from time import time\n",
    "\n",
    "import pandas as pd\n",
    "\n",
    "import matplotlib.pyplot as plt\n",
    "from matplotlib.ticker import FuncFormatter\n",
    "import seaborn as sns"
   ]
  },
  {
   "cell_type": "code",
   "execution_count": 52,
   "metadata": {
    "pycharm": {
     "name": "#%%\n"
    },
    "ExecuteTime": {
     "end_time": "2024-07-26T04:11:05.474690Z",
     "start_time": "2024-07-26T04:11:05.470416Z"
    }
   },
   "outputs": [],
   "source": [
    "sns.set_style('whitegrid')"
   ]
  },
  {
   "cell_type": "code",
   "execution_count": 53,
   "metadata": {
    "pycharm": {
     "name": "#%%\n"
    },
    "ExecuteTime": {
     "end_time": "2024-07-26T04:11:05.483006Z",
     "start_time": "2024-07-26T04:11:05.475528Z"
    }
   },
   "outputs": [],
   "source": [
    "def format_time(t):\n",
    "    \"\"\"Return a formatted time string 'HH:MM:SS\n",
    "    based on a numeric time() value\"\"\"\n",
    "    m, s = divmod(t, 60)\n",
    "    h, m = divmod(m, 60)\n",
    "    return f'{h:0>2.0f}:{m:0>2.0f}:{s:0>5.2f}'"
   ]
  },
  {
   "cell_type": "markdown",
   "metadata": {
    "pycharm": {
     "name": "#%% md\n"
    }
   },
   "source": [
    "## Get NASDAQ ITCH Data from FTP Server"
   ]
  },
  {
   "cell_type": "markdown",
   "metadata": {
    "pycharm": {
     "name": "#%% md\n"
    }
   },
   "source": [
    "The Nasdaq offers [samples](https://emi.nasdaq.com/ITCH/Nasdaq%20ITCH/) of daily binary files for several months. \n",
    "\n",
    "We are now going to illustrates how to parse a sample file of ITCH messages and reconstruct both the executed trades and the order book for any given tick."
   ]
  },
  {
   "cell_type": "markdown",
   "metadata": {
    "pycharm": {
     "name": "#%% md\n"
    }
   },
   "source": [
    "The data is fairly large and running the entire example can take a lot of time and require substantial memory (16GB+). Also, the sample file used in this example may no longer be available because NASDAQ occasionaly updates the sample files."
   ]
  },
  {
   "cell_type": "markdown",
   "metadata": {
    "pycharm": {
     "name": "#%% md\n"
    }
   },
   "source": [
    "The following table shows the frequency of the most common message types for the sample file date March 29, 2018:"
   ]
  },
  {
   "cell_type": "markdown",
   "metadata": {
    "pycharm": {
     "name": "#%% md\n"
    }
   },
   "source": [
    "| Name                    | Offset  | Length  | Value      | Notes                                                                                |\n",
    "|-------------------------|---------|---------|------------|--------------------------------------------------------------------------------------|\n",
    "| Message Type            | 0       | 1       | S          | System Event Message                                                                 |\n",
    "| Stock Locate            | 1       | 2       | Integer    | Always 0                                                                             |\n",
    "| Tracking Number         | 3       | 2       | Integer    | Nasdaq internal tracking number                                                      |\n",
    "| Timestamp               | 5       | 6       | Integer    | Nanoseconds since midnight                                                           |\n",
    "| Order Reference Number  | 11      | 8       | Integer    | The unique reference number assigned to the new order at the time of receipt.        |\n",
    "| Buy/Sell Indicator      | 19      | 1       | Alpha      | The type of order being added. B = Buy Order. S = Sell Order.                        |\n",
    "| Shares                  | 20      | 4       | Integer    | The total number of shares associated with the order being added to the book.        |\n",
    "| Stock                   | 24      | 8       | Alpha      | Stock symbol, right padded with spaces                                               |\n",
    "| Price                   | 32      | 4       | Price (4)  | The display price of the new order. Refer to Data Types for field processing notes.  |\n",
    "| Attribution             | 36      | 4       | Alpha      | Nasdaq Market participant identifier associated with the entered order               |"
   ]
  },
  {
   "cell_type": "markdown",
   "metadata": {
    "pycharm": {
     "name": "#%% md\n"
    }
   },
   "source": [
    "### Set Data paths"
   ]
  },
  {
   "cell_type": "markdown",
   "metadata": {
    "pycharm": {
     "name": "#%% md\n"
    }
   },
   "source": [
    "We will store the download in a `data` subdirectory and convert the result to `hdf` format (discussed in the last section of chapter 2)."
   ]
  },
  {
   "cell_type": "code",
   "execution_count": 54,
   "metadata": {
    "pycharm": {
     "name": "#%%\n"
    },
    "ExecuteTime": {
     "end_time": "2024-07-26T04:11:05.491546Z",
     "start_time": "2024-07-26T04:11:05.483853Z"
    }
   },
   "outputs": [],
   "source": [
    "temp_path = Path('data') \n",
    "itch_store = str(temp_path / 'itch.h5')\n",
    "order_book_store = temp_path / 'order_book.h5'"
   ]
  },
  {
   "cell_type": "markdown",
   "metadata": {
    "pycharm": {
     "name": "#%% md\n"
    }
   },
   "source": [
    "You can find several sample files on the [NASDAQ server](https://emi.nasdaq.com/ITCH/Nasdaq%20ITCH/).\n",
    "\n",
    "The HTTPS address, filename and corresponding date used in this example:"
   ]
  },
  {
   "cell_type": "code",
   "execution_count": 55,
   "metadata": {
    "pycharm": {
     "name": "#%%\n"
    },
    "ExecuteTime": {
     "end_time": "2024-07-26T04:11:05.496949Z",
     "start_time": "2024-07-26T04:11:05.492360Z"
    }
   },
   "outputs": [],
   "source": [
    "HTTPS_URL = 'https://emi.nasdaq.com/ITCH/Nasdaq%20ITCH/'\n",
    "SOURCE_FILE = '12302019.NASDAQ_ITCH50.gz'"
   ]
  },
  {
   "cell_type": "markdown",
   "metadata": {
    "pycharm": {
     "name": "#%% md\n"
    }
   },
   "source": [
    "#### URL updates\n",
    "\n",
    "NASDAQ updates the files occasionally so that the SOURCE_FILE changes. If the above gives an error, navigate to the HTTPS_URL using your browser, and check for new files. As of September 2021, the listed files include:\n",
    "\n",
    "- 01302020.NASDAQ_ITCH50.gz\n",
    "- 12302019.NASDAQ_ITCH50.gz\n",
    "- 10302019.NASDAQ_ITCH50.gz\n",
    "- 08302019.NASDAQ_ITCH50.gz\n",
    "- 07302019.NASDAQ_ITCH50.gz\n",
    "- 03272019.NASDAQ_ITCH50.gz\n",
    "- 01302019.NASDAQ_ITCH50.gz\n",
    "- 12282018.NASDAQ_ITCH50.gz\n"
   ]
  },
  {
   "cell_type": "markdown",
   "metadata": {
    "pycharm": {
     "name": "#%% md\n"
    }
   },
   "source": [
    "### Download & unzip"
   ]
  },
  {
   "cell_type": "code",
   "outputs": [],
   "source": [],
   "metadata": {
    "collapsed": false,
    "ExecuteTime": {
     "end_time": "2024-07-26T04:11:05.499491Z",
     "start_time": "2024-07-26T04:11:05.497928Z"
    }
   },
   "execution_count": 55
  },
  {
   "cell_type": "code",
   "execution_count": 56,
   "metadata": {
    "pycharm": {
     "name": "#%%\n"
    },
    "ExecuteTime": {
     "end_time": "2024-07-26T04:11:05.504047Z",
     "start_time": "2024-07-26T04:11:05.500255Z"
    }
   },
   "outputs": [],
   "source": [
    "def may_be_download(url):\n",
    "    \"\"\"Download & unzip ITCH data if not yet available\"\"\"\n",
    "    if not temp_path.exists():\n",
    "        print('Creating directory')\n",
    "        temp_path.mkdir()\n",
    "    else: \n",
    "        print('Directory exists')\n",
    "\n",
    "    filename = temp_path / url.split('/')[-1]        \n",
    "    if not filename.exists():\n",
    "        print('Downloading...', url)\n",
    "        urlretrieve(url, filename)\n",
    "    else: \n",
    "        print('File exists')        \n",
    "\n",
    "    unzipped = temp_path / (filename.stem + '.bin')\n",
    "    if not unzipped.exists():\n",
    "        print('Unzipping to', unzipped)\n",
    "        with gzip.open(str(filename), 'rb') as f_in:\n",
    "            with open(unzipped, 'wb') as f_out:\n",
    "                shutil.copyfileobj(f_in, f_out,length=16*1024*1024)\n",
    "    else: \n",
    "        print('File already unpacked')\n",
    "    return unzipped"
   ]
  },
  {
   "cell_type": "markdown",
   "metadata": {
    "pycharm": {
     "name": "#%% md\n"
    }
   },
   "source": [
    "This will download 5.1GB data that unzips to 12.9GB (this may vary depending on the file, see 'url updates' below)."
   ]
  },
  {
   "cell_type": "code",
   "execution_count": 57,
   "metadata": {
    "pycharm": {
     "name": "#%%\n"
    },
    "ExecuteTime": {
     "end_time": "2024-07-26T04:14:46.963768Z",
     "start_time": "2024-07-26T04:11:05.505801Z"
    }
   },
   "outputs": [
    {
     "name": "stdout",
     "output_type": "stream",
     "text": [
      "Creating directory\n",
      "Downloading... https://emi.nasdaq.com/ITCH/Nasdaq%20ITCH/12302019.NASDAQ_ITCH50.gz\n",
      "Unzipping to data/12302019.NASDAQ_ITCH50.bin\n"
     ]
    }
   ],
   "source": [
    "file_name = may_be_download(urljoin(HTTPS_URL, SOURCE_FILE))\n",
    "date = file_name.name.split('.')[0]"
   ]
  },
  {
   "cell_type": "markdown",
   "metadata": {
    "pycharm": {
     "name": "#%% md\n"
    }
   },
   "source": [
    "## ITCH Format Settings"
   ]
  },
  {
   "cell_type": "markdown",
   "metadata": {
    "pycharm": {
     "name": "#%% md\n"
    }
   },
   "source": [
    "### The `struct` module for binary data"
   ]
  },
  {
   "cell_type": "markdown",
   "metadata": {
    "pycharm": {
     "name": "#%% md\n"
    }
   },
   "source": [
    "The ITCH tick data comes in binary format. Python provides the `struct` module (see [docs](https://docs.python.org/3/library/struct.html)) to parse binary data using format strings that identify the message elements by indicating length and type of the various components of the byte string as laid out in the specification."
   ]
  },
  {
   "cell_type": "markdown",
   "metadata": {
    "pycharm": {
     "name": "#%% md\n"
    }
   },
   "source": [
    "From the docs:\n",
    "\n",
    "> This module performs conversions between Python values and C structs represented as Python bytes objects. This can be used in handling binary data stored in files or from network connections, among other sources. It uses Format Strings as compact descriptions of the layout of the C structs and the intended conversion to/from Python values."
   ]
  },
  {
   "cell_type": "markdown",
   "metadata": {
    "pycharm": {
     "name": "#%% md\n"
    }
   },
   "source": [
    "Let's walk through the critical steps to parse the trading messages and reconstruct the order book:"
   ]
  },
  {
   "cell_type": "markdown",
   "metadata": {
    "pycharm": {
     "name": "#%% md\n"
    }
   },
   "source": [
    "### Defining format strings"
   ]
  },
  {
   "cell_type": "markdown",
   "metadata": {
    "pycharm": {
     "name": "#%% md\n"
    }
   },
   "source": [
    "The parser uses format strings according to the following formats dictionaries:"
   ]
  },
  {
   "cell_type": "code",
   "execution_count": 58,
   "metadata": {
    "pycharm": {
     "name": "#%%\n"
    },
    "ExecuteTime": {
     "end_time": "2024-07-26T04:14:46.966669Z",
     "start_time": "2024-07-26T04:14:46.964572Z"
    }
   },
   "outputs": [],
   "source": [
    "event_codes = {'O': 'Start of Messages',\n",
    "               'S': 'Start of System Hours',\n",
    "               'Q': 'Start of Market Hours',\n",
    "               'M': 'End of Market Hours',\n",
    "               'E': 'End of System Hours',\n",
    "               'C': 'End of Messages'}"
   ]
  },
  {
   "cell_type": "code",
   "execution_count": 59,
   "metadata": {
    "pycharm": {
     "name": "#%%\n"
    },
    "ExecuteTime": {
     "end_time": "2024-07-26T04:14:46.976824Z",
     "start_time": "2024-07-26T04:14:46.967267Z"
    }
   },
   "outputs": [],
   "source": [
    "encoding = {'primary_market_maker': {'Y': 1, 'N': 0},\n",
    "            'printable'           : {'Y': 1, 'N': 0},\n",
    "            'buy_sell_indicator'  : {'B': 1, 'S': -1},\n",
    "            'cross_type'          : {'O': 0, 'C': 1, 'H': 2},\n",
    "            'imbalance_direction' : {'B': 0, 'S': 1, 'N': 0, 'O': -1}}"
   ]
  },
  {
   "cell_type": "code",
   "execution_count": 60,
   "metadata": {
    "pycharm": {
     "name": "#%%\n"
    },
    "ExecuteTime": {
     "end_time": "2024-07-26T04:14:46.981223Z",
     "start_time": "2024-07-26T04:14:46.977648Z"
    }
   },
   "outputs": [],
   "source": [
    "formats = {\n",
    "    ('integer', 2): 'H',  # int of length 2 => format string 'H'\n",
    "    ('integer', 4): 'I',\n",
    "    ('integer', 6): '6s',  # int of length 6 => parse as string, convert later\n",
    "    ('integer', 8): 'Q',\n",
    "    ('alpha',   1): 's',\n",
    "    ('alpha',   2): '2s',\n",
    "    ('alpha',   4): '4s',\n",
    "    ('alpha',   8): '8s',\n",
    "    ('price_4', 4): 'I',\n",
    "    ('price_8', 8): 'Q',\n",
    "}"
   ]
  },
  {
   "cell_type": "markdown",
   "metadata": {
    "pycharm": {
     "name": "#%% md\n"
    }
   },
   "source": [
    "### Create message specs for binary data parser"
   ]
  },
  {
   "cell_type": "markdown",
   "metadata": {
    "pycharm": {
     "name": "#%% md\n"
    }
   },
   "source": [
    "The ITCH parser relies on message specifications that we create in the following steps."
   ]
  },
  {
   "cell_type": "markdown",
   "metadata": {
    "pycharm": {
     "name": "#%% md\n"
    }
   },
   "source": [
    "#### Load Message Types"
   ]
  },
  {
   "cell_type": "markdown",
   "metadata": {
    "pycharm": {
     "name": "#%% md\n"
    }
   },
   "source": [
    "The file `message_types.xlxs` contains the message type specs as laid out in the [documentation](https://www.nasdaqtrader.com/content/technicalsupport/specifications/dataproducts/NQTVITCHSpecification.pdf)"
   ]
  },
  {
   "cell_type": "code",
   "execution_count": 61,
   "metadata": {
    "pycharm": {
     "name": "#%%\n"
    },
    "ExecuteTime": {
     "end_time": "2024-07-26T04:14:47.004682Z",
     "start_time": "2024-07-26T04:14:46.982267Z"
    }
   },
   "outputs": [],
   "source": [
    "message_data = (pd.read_excel('message_types.xlsx',\n",
    "                              sheet_name='messages')\n",
    "                .sort_values('id')\n",
    "                .drop('id', axis=1))"
   ]
  },
  {
   "cell_type": "code",
   "execution_count": 62,
   "metadata": {
    "pycharm": {
     "name": "#%%\n"
    },
    "ExecuteTime": {
     "end_time": "2024-07-26T04:14:47.010674Z",
     "start_time": "2024-07-26T04:14:47.005501Z"
    }
   },
   "outputs": [
    {
     "data": {
      "text/plain": "              Name   Offset   Length     Value   \\\n0     Message Type         0        1         S   \n1     Stock Locate         1        2  Integer    \n2  Tracking Number         3        2  Integer    \n3        Timestamp         5        6  Integer    \n4       Event Code        11        1    Alpha    \n\n                             Notes   \n0             System Event Message   \n1                         Always 0   \n2  Nasdaq internal tracking number   \n3       Nanoseconds since midnight   \n4     See System Event Codes below   ",
      "text/html": "<div>\n<style scoped>\n    .dataframe tbody tr th:only-of-type {\n        vertical-align: middle;\n    }\n\n    .dataframe tbody tr th {\n        vertical-align: top;\n    }\n\n    .dataframe thead th {\n        text-align: right;\n    }\n</style>\n<table border=\"1\" class=\"dataframe\">\n  <thead>\n    <tr style=\"text-align: right;\">\n      <th></th>\n      <th>Name</th>\n      <th>Offset</th>\n      <th>Length</th>\n      <th>Value</th>\n      <th>Notes</th>\n    </tr>\n  </thead>\n  <tbody>\n    <tr>\n      <th>0</th>\n      <td>Message Type</td>\n      <td>0</td>\n      <td>1</td>\n      <td>S</td>\n      <td>System Event Message</td>\n    </tr>\n    <tr>\n      <th>1</th>\n      <td>Stock Locate</td>\n      <td>1</td>\n      <td>2</td>\n      <td>Integer</td>\n      <td>Always 0</td>\n    </tr>\n    <tr>\n      <th>2</th>\n      <td>Tracking Number</td>\n      <td>3</td>\n      <td>2</td>\n      <td>Integer</td>\n      <td>Nasdaq internal tracking number</td>\n    </tr>\n    <tr>\n      <th>3</th>\n      <td>Timestamp</td>\n      <td>5</td>\n      <td>6</td>\n      <td>Integer</td>\n      <td>Nanoseconds since midnight</td>\n    </tr>\n    <tr>\n      <th>4</th>\n      <td>Event Code</td>\n      <td>11</td>\n      <td>1</td>\n      <td>Alpha</td>\n      <td>See System Event Codes below</td>\n    </tr>\n  </tbody>\n</table>\n</div>"
     },
     "execution_count": 62,
     "metadata": {},
     "output_type": "execute_result"
    }
   ],
   "source": [
    "message_data.head()"
   ]
  },
  {
   "cell_type": "markdown",
   "metadata": {
    "pycharm": {
     "name": "#%% md\n"
    }
   },
   "source": [
    "#### Basic Cleaning"
   ]
  },
  {
   "cell_type": "markdown",
   "metadata": {
    "pycharm": {
     "name": "#%% md\n"
    }
   },
   "source": [
    "The function `clean_message_types()` just runs a few basic string cleaning steps."
   ]
  },
  {
   "cell_type": "code",
   "execution_count": 63,
   "metadata": {
    "pycharm": {
     "name": "#%%\n"
    },
    "ExecuteTime": {
     "end_time": "2024-07-26T04:14:47.019980Z",
     "start_time": "2024-07-26T04:14:47.011377Z"
    }
   },
   "outputs": [],
   "source": [
    "def clean_message_types(df):\n",
    "    df.columns = [c.lower().strip() for c in df.columns]\n",
    "    df.value = df.value.str.strip()\n",
    "    df.name = (df.name\n",
    "               .str.strip() # remove whitespace\n",
    "               .str.lower()\n",
    "               .str.replace(' ', '_')\n",
    "               .str.replace('-', '_')\n",
    "               .str.replace('/', '_'))\n",
    "    df.notes = df.notes.str.strip()\n",
    "    df['message_type'] = df.loc[df.name == 'message_type', 'value']\n",
    "    return df"
   ]
  },
  {
   "cell_type": "code",
   "execution_count": 64,
   "metadata": {
    "pycharm": {
     "name": "#%%\n"
    },
    "ExecuteTime": {
     "end_time": "2024-07-26T04:14:47.027161Z",
     "start_time": "2024-07-26T04:14:47.021068Z"
    }
   },
   "outputs": [],
   "source": [
    "message_types = clean_message_types(message_data)"
   ]
  },
  {
   "cell_type": "markdown",
   "metadata": {
    "pycharm": {
     "name": "#%% md\n"
    }
   },
   "source": [
    "#### Get Message Labels"
   ]
  },
  {
   "cell_type": "markdown",
   "metadata": {
    "pycharm": {
     "name": "#%% md\n"
    }
   },
   "source": [
    "We extract message type codes and names so we can later make the results more readable."
   ]
  },
  {
   "cell_type": "code",
   "execution_count": 65,
   "metadata": {
    "pycharm": {
     "name": "#%%\n"
    },
    "ExecuteTime": {
     "end_time": "2024-07-26T04:14:47.035966Z",
     "start_time": "2024-07-26T04:14:47.027990Z"
    }
   },
   "outputs": [
    {
     "data": {
      "text/plain": "   message_type                                               name\n0             S                                       system_event\n5             R                                    stock_directory\n23            H                               stock_trading_action\n31            Y  reg_sho_short_sale_price_test_restricted_indic...\n37            L                        market_participant_position",
      "text/html": "<div>\n<style scoped>\n    .dataframe tbody tr th:only-of-type {\n        vertical-align: middle;\n    }\n\n    .dataframe tbody tr th {\n        vertical-align: top;\n    }\n\n    .dataframe thead th {\n        text-align: right;\n    }\n</style>\n<table border=\"1\" class=\"dataframe\">\n  <thead>\n    <tr style=\"text-align: right;\">\n      <th></th>\n      <th>message_type</th>\n      <th>name</th>\n    </tr>\n  </thead>\n  <tbody>\n    <tr>\n      <th>0</th>\n      <td>S</td>\n      <td>system_event</td>\n    </tr>\n    <tr>\n      <th>5</th>\n      <td>R</td>\n      <td>stock_directory</td>\n    </tr>\n    <tr>\n      <th>23</th>\n      <td>H</td>\n      <td>stock_trading_action</td>\n    </tr>\n    <tr>\n      <th>31</th>\n      <td>Y</td>\n      <td>reg_sho_short_sale_price_test_restricted_indic...</td>\n    </tr>\n    <tr>\n      <th>37</th>\n      <td>L</td>\n      <td>market_participant_position</td>\n    </tr>\n  </tbody>\n</table>\n</div>"
     },
     "execution_count": 65,
     "metadata": {},
     "output_type": "execute_result"
    }
   ],
   "source": [
    "message_labels = (message_types.loc[:, ['message_type', 'notes']]\n",
    "                  .dropna()\n",
    "                  .rename(columns={'notes': 'name'}))\n",
    "message_labels.name = (message_labels.name\n",
    "                       .str.lower()\n",
    "                       .str.replace('message', '')\n",
    "                       .str.replace('.', '')\n",
    "                       .str.strip().str.replace(' ', '_'))\n",
    "message_labels.head()"
   ]
  },
  {
   "cell_type": "markdown",
   "metadata": {
    "pycharm": {
     "name": "#%% md\n"
    }
   },
   "source": [
    "### Finalize specification details"
   ]
  },
  {
   "cell_type": "markdown",
   "metadata": {
    "pycharm": {
     "name": "#%% md\n"
    }
   },
   "source": [
    "Each message consists of several fields that are defined by offset, length and type of value. The `struct` module will use this format information to parse the binary source data."
   ]
  },
  {
   "cell_type": "code",
   "execution_count": 66,
   "metadata": {
    "pycharm": {
     "name": "#%%\n"
    },
    "ExecuteTime": {
     "end_time": "2024-07-26T04:14:47.051062Z",
     "start_time": "2024-07-26T04:14:47.036723Z"
    }
   },
   "outputs": [
    {
     "name": "stdout",
     "output_type": "stream",
     "text": [
      "<class 'pandas.core.frame.DataFrame'>\n",
      "Index: 152 entries, 1 to 172\n",
      "Data columns (total 6 columns):\n",
      " #   Column        Non-Null Count  Dtype \n",
      "---  ------        --------------  ----- \n",
      " 0   name          152 non-null    object\n",
      " 1   offset        152 non-null    int64 \n",
      " 2   length        152 non-null    int64 \n",
      " 3   value         152 non-null    object\n",
      " 4   notes         152 non-null    object\n",
      " 5   message_type  152 non-null    object\n",
      "dtypes: int64(2), object(4)\n",
      "memory usage: 8.3+ KB\n"
     ]
    }
   ],
   "source": [
    "message_types.message_type = message_types.message_type.ffill()\n",
    "message_types = message_types[message_types.name != 'message_type']\n",
    "message_types.value = (message_types.value\n",
    "                       .str.lower()\n",
    "                       .str.replace(' ', '_')\n",
    "                       .str.replace('(', '')\n",
    "                       .str.replace(')', ''))\n",
    "message_types.info()"
   ]
  },
  {
   "cell_type": "code",
   "execution_count": 67,
   "metadata": {
    "pycharm": {
     "name": "#%%\n"
    },
    "ExecuteTime": {
     "end_time": "2024-07-26T04:14:47.062687Z",
     "start_time": "2024-07-26T04:14:47.051839Z"
    }
   },
   "outputs": [
    {
     "data": {
      "text/plain": "              name  offset  length    value  \\\n1     stock_locate       1       2  integer   \n2  tracking_number       3       2  integer   \n3        timestamp       5       6  integer   \n4       event_code      11       1    alpha   \n6     stock_locate       1       2  integer   \n\n                                               notes message_type  \n1                                           Always 0            S  \n2                    Nasdaq internal tracking number            S  \n3                         Nanoseconds since midnight            S  \n4                       See System Event Codes below            S  \n6  Locate Code uniquely assigned to the security ...            R  ",
      "text/html": "<div>\n<style scoped>\n    .dataframe tbody tr th:only-of-type {\n        vertical-align: middle;\n    }\n\n    .dataframe tbody tr th {\n        vertical-align: top;\n    }\n\n    .dataframe thead th {\n        text-align: right;\n    }\n</style>\n<table border=\"1\" class=\"dataframe\">\n  <thead>\n    <tr style=\"text-align: right;\">\n      <th></th>\n      <th>name</th>\n      <th>offset</th>\n      <th>length</th>\n      <th>value</th>\n      <th>notes</th>\n      <th>message_type</th>\n    </tr>\n  </thead>\n  <tbody>\n    <tr>\n      <th>1</th>\n      <td>stock_locate</td>\n      <td>1</td>\n      <td>2</td>\n      <td>integer</td>\n      <td>Always 0</td>\n      <td>S</td>\n    </tr>\n    <tr>\n      <th>2</th>\n      <td>tracking_number</td>\n      <td>3</td>\n      <td>2</td>\n      <td>integer</td>\n      <td>Nasdaq internal tracking number</td>\n      <td>S</td>\n    </tr>\n    <tr>\n      <th>3</th>\n      <td>timestamp</td>\n      <td>5</td>\n      <td>6</td>\n      <td>integer</td>\n      <td>Nanoseconds since midnight</td>\n      <td>S</td>\n    </tr>\n    <tr>\n      <th>4</th>\n      <td>event_code</td>\n      <td>11</td>\n      <td>1</td>\n      <td>alpha</td>\n      <td>See System Event Codes below</td>\n      <td>S</td>\n    </tr>\n    <tr>\n      <th>6</th>\n      <td>stock_locate</td>\n      <td>1</td>\n      <td>2</td>\n      <td>integer</td>\n      <td>Locate Code uniquely assigned to the security ...</td>\n      <td>R</td>\n    </tr>\n  </tbody>\n</table>\n</div>"
     },
     "execution_count": 67,
     "metadata": {},
     "output_type": "execute_result"
    }
   ],
   "source": [
    "message_types.head()"
   ]
  },
  {
   "cell_type": "markdown",
   "metadata": {
    "pycharm": {
     "name": "#%% md\n"
    }
   },
   "source": [
    "Optionally, persist/reload from file:"
   ]
  },
  {
   "cell_type": "code",
   "execution_count": 68,
   "metadata": {
    "pycharm": {
     "name": "#%%\n"
    },
    "ExecuteTime": {
     "end_time": "2024-07-26T04:14:47.068761Z",
     "start_time": "2024-07-26T04:14:47.063510Z"
    }
   },
   "outputs": [],
   "source": [
    "message_types.to_csv('message_types.csv', index=False)"
   ]
  },
  {
   "cell_type": "code",
   "execution_count": 69,
   "metadata": {
    "pycharm": {
     "name": "#%%\n"
    },
    "ExecuteTime": {
     "end_time": "2024-07-26T04:14:47.073654Z",
     "start_time": "2024-07-26T04:14:47.069403Z"
    }
   },
   "outputs": [],
   "source": [
    "message_types = pd.read_csv('message_types.csv')"
   ]
  },
  {
   "cell_type": "markdown",
   "metadata": {
    "pycharm": {
     "name": "#%% md\n"
    }
   },
   "source": [
    "The parser translates the message specs into format strings and `namedtuples` that capture the message content. First, we create `(type, length)` formatting tuples from ITCH specs:"
   ]
  },
  {
   "cell_type": "code",
   "execution_count": 70,
   "metadata": {
    "pycharm": {
     "name": "#%%\n"
    },
    "ExecuteTime": {
     "end_time": "2024-07-26T04:14:47.082621Z",
     "start_time": "2024-07-26T04:14:47.074288Z"
    }
   },
   "outputs": [],
   "source": [
    "message_types.loc[:, 'formats'] = (message_types[['value', 'length']]\n",
    "                            .apply(tuple, axis=1).map(formats))"
   ]
  },
  {
   "cell_type": "markdown",
   "metadata": {
    "pycharm": {
     "name": "#%% md\n"
    }
   },
   "source": [
    "Then, we extract formatting details for alphanumerical fields"
   ]
  },
  {
   "cell_type": "code",
   "execution_count": 71,
   "metadata": {
    "pycharm": {
     "name": "#%%\n"
    },
    "ExecuteTime": {
     "end_time": "2024-07-26T04:14:47.094159Z",
     "start_time": "2024-07-26T04:14:47.083388Z"
    }
   },
   "outputs": [],
   "source": [
    "alpha_fields = message_types[message_types.value == 'alpha'].set_index('name')\n",
    "alpha_msgs = alpha_fields.groupby('message_type')\n",
    "alpha_formats = {k: v.to_dict() for k, v in alpha_msgs.formats}\n",
    "alpha_length = {k: v.add(5).to_dict() for k, v in alpha_msgs.length}"
   ]
  },
  {
   "cell_type": "markdown",
   "metadata": {
    "pycharm": {
     "name": "#%% md\n"
    }
   },
   "source": [
    "We generate message classes as named tuples and format strings"
   ]
  },
  {
   "cell_type": "code",
   "execution_count": 72,
   "metadata": {
    "pycharm": {
     "name": "#%%\n"
    },
    "ExecuteTime": {
     "end_time": "2024-07-26T04:14:47.105412Z",
     "start_time": "2024-07-26T04:14:47.094853Z"
    }
   },
   "outputs": [],
   "source": [
    "message_fields, fstring = {}, {}\n",
    "for t, message in message_types.groupby('message_type'):\n",
    "    message_fields[t] = namedtuple(typename=t, field_names=message.name.tolist())\n",
    "    fstring[t] = '>' + ''.join(message.formats.tolist())"
   ]
  },
  {
   "cell_type": "code",
   "execution_count": 73,
   "metadata": {
    "pycharm": {
     "name": "#%%\n"
    },
    "ExecuteTime": {
     "end_time": "2024-07-26T04:14:47.112236Z",
     "start_time": "2024-07-26T04:14:47.106192Z"
    }
   },
   "outputs": [
    {
     "name": "stdout",
     "output_type": "stream",
     "text": [
      "<class 'pandas.core.frame.DataFrame'>\n",
      "Index: 45 entries, event_code to price_variation_indicator\n",
      "Data columns (total 6 columns):\n",
      " #   Column        Non-Null Count  Dtype \n",
      "---  ------        --------------  ----- \n",
      " 0   offset        45 non-null     int64 \n",
      " 1   length        45 non-null     int64 \n",
      " 2   value         45 non-null     object\n",
      " 3   notes         45 non-null     object\n",
      " 4   message_type  45 non-null     object\n",
      " 5   formats       45 non-null     object\n",
      "dtypes: int64(2), object(4)\n",
      "memory usage: 2.5+ KB\n"
     ]
    }
   ],
   "source": [
    "alpha_fields.info()"
   ]
  },
  {
   "cell_type": "code",
   "execution_count": 74,
   "metadata": {
    "pycharm": {
     "name": "#%%\n"
    },
    "ExecuteTime": {
     "end_time": "2024-07-26T04:14:47.121984Z",
     "start_time": "2024-07-26T04:14:47.112955Z"
    }
   },
   "outputs": [
    {
     "data": {
      "text/plain": "                                 offset  length  value  \\\nname                                                     \nevent_code                           11       1  alpha   \nstock                                11       8  alpha   \nmarket_category                      19       1  alpha   \nfinancial_status_indicator           20       1  alpha   \nround_lots_only                      25       1  alpha   \nissue_classification                 26       1  alpha   \nissue_sub_type                       27       2  alpha   \nauthenticity                         29       1  alpha   \nshort_sale_threshold_indicator       30       1  alpha   \nipo_flag                             31       1  alpha   \nluld_reference_price_tier            32       1  alpha   \netp_flag                             33       1  alpha   \ninverse_indicator                    38       1  alpha   \nstock                                11       8  alpha   \ntrading_state                        19       1  alpha   \nreserved                             20       1  alpha   \nreason                               21       4  alpha   \nstock                                11       8  alpha   \nreg_sho_action                       19       1  alpha   \nmpid                                 11       4  alpha   \nstock                                15       8  alpha   \nprimary_market_maker                 23       1  alpha   \nmarket_maker_mode                    24       1  alpha   \nmarket_participant_state             25       1  alpha   \nbreached_level                       11       1  alpha   \nstock                                11       8  alpha   \nipo_quotation_release_qualifier      23       1  alpha   \nstock                                11       8  alpha   \nstock                                11       8  alpha   \nmarket_code                          19       1  alpha   \noperational_halt_action              20       1  alpha   \nbuy_sell_indicator                   19       1  alpha   \nstock                                24       8  alpha   \nbuy_sell_indicator                   19       1  alpha   \nstock                                24       8  alpha   \nattribution                          36       4  alpha   \nprintable                            31       1  alpha   \nbuy_sell_indicator                   19       1  alpha   \nstock                                24       8  alpha   \nstock                                19       8  alpha   \ncross_type                           39       1  alpha   \nimbalance_direction                  27       1  alpha   \nstock                                28       8  alpha   \ncross_type                           48       1  alpha   \nprice_variation_indicator            49       1  alpha   \n\n                                                                             notes  \\\nname                                                                                 \nevent_code                                            See System Event Codes below   \nstock                            Denotes the security symbol for the issue in t...   \nmarket_category                  Indicates Listing market or listing market tie...   \nfinancial_status_indicator       For Nasdaq listed issues, this field indicates...   \nround_lots_only                  Indicates if Nasdaq system limits order entry ...   \nissue_classification             Identifies the security class for the issue as...   \nissue_sub_type                   Identifies the security sub-type for the issue...   \nauthenticity                     Denotes if an issue or quoting participant rec...   \nshort_sale_threshold_indicator   Indicates if a security is subject to mandator...   \nipo_flag                         Indicates if the Nasdaq security is set up for...   \nluld_reference_price_tier        Indicates which Limit Up / Limit Down price ba...   \netp_flag                         Indicates whether the security is an exchange ...   \ninverse_indicator                Indicates the directional relationship between...   \nstock                                       Stock symbol, right padded with spaces   \ntrading_state                    Indicates the current trading state for the st...   \nreserved                                                                 Reserved.   \nreason                                                      Trading Action reason.   \nstock                                       Stock symbol, right padded with spaces   \nreg_sho_action                   Denotes the Reg SHO Short Sale Price Test Rest...   \nmpid                             Denotes the market participant identifier for ...   \nstock                                       Stock symbol, right padded with spaces   \nprimary_market_maker             Indicates if the market participant firm quali...   \nmarket_maker_mode                Indicates the quoting participant's registrati...   \nmarket_participant_state         Indicates the market participant's current reg...   \nbreached_level                   Denotes the MWCB Level that was breached. 1 = ...   \nstock                                       Stock symbol, right padded with spaces   \nipo_quotation_release_qualifier  A = Anticipated Quotation Release Time: \\nThis...   \nstock                                       Stock symbol, right padded with spaces   \nstock                            Denotes the security symbol for the issue in N...   \nmarket_code                                                Q: Nasdaq\\nB: BX\\nX: PS   \noperational_halt_action          H: Operationally Halted on the identified Mark...   \nbuy_sell_indicator               The type of order being added. B = Buy Order. ...   \nstock                                       Stock symbol, right padded with spaces   \nbuy_sell_indicator               The type of order being added. B = Buy Order. ...   \nstock                                       Stock symbol, right padded with spaces   \nattribution                      Nasdaq Market participant identifier associate...   \nprintable                        Indicates if the execution should be reflected...   \nbuy_sell_indicator               The type of non-display order on the book bein...   \nstock                                       Stock Symbol, right padded with spaces   \nstock                                       Stock symbol, right padded with spaces   \ncross_type                       The Nasdaq cross session for which the message...   \nimbalance_direction              The market side of the order imbalance. \\nB = ...   \nstock                                       Stock symbol, right padded with spaces   \ncross_type                       The type of Nasdaq cross for which the NOII me...   \nprice_variation_indicator        This field indicates the absolute value of the...   \n\n                                message_type formats  \nname                                                  \nevent_code                                 S       s  \nstock                                      R      8s  \nmarket_category                            R       s  \nfinancial_status_indicator                 R       s  \nround_lots_only                            R       s  \nissue_classification                       R       s  \nissue_sub_type                             R      2s  \nauthenticity                               R       s  \nshort_sale_threshold_indicator             R       s  \nipo_flag                                   R       s  \nluld_reference_price_tier                  R       s  \netp_flag                                   R       s  \ninverse_indicator                          R       s  \nstock                                      H      8s  \ntrading_state                              H       s  \nreserved                                   H       s  \nreason                                     H      4s  \nstock                                      Y      8s  \nreg_sho_action                             Y       s  \nmpid                                       L      4s  \nstock                                      L      8s  \nprimary_market_maker                       L       s  \nmarket_maker_mode                          L       s  \nmarket_participant_state                   L       s  \nbreached_level                             W       s  \nstock                                      K      8s  \nipo_quotation_release_qualifier            K       s  \nstock                                      J      8s  \nstock                                      h      8s  \nmarket_code                                h       s  \noperational_halt_action                    h       s  \nbuy_sell_indicator                         A       s  \nstock                                      A      8s  \nbuy_sell_indicator                         F       s  \nstock                                      F      8s  \nattribution                                F      4s  \nprintable                                  C       s  \nbuy_sell_indicator                         P       s  \nstock                                      P      8s  \nstock                                      Q      8s  \ncross_type                                 Q       s  \nimbalance_direction                        I       s  \nstock                                      I      8s  \ncross_type                                 I       s  \nprice_variation_indicator                  I       s  ",
      "text/html": "<div>\n<style scoped>\n    .dataframe tbody tr th:only-of-type {\n        vertical-align: middle;\n    }\n\n    .dataframe tbody tr th {\n        vertical-align: top;\n    }\n\n    .dataframe thead th {\n        text-align: right;\n    }\n</style>\n<table border=\"1\" class=\"dataframe\">\n  <thead>\n    <tr style=\"text-align: right;\">\n      <th></th>\n      <th>offset</th>\n      <th>length</th>\n      <th>value</th>\n      <th>notes</th>\n      <th>message_type</th>\n      <th>formats</th>\n    </tr>\n    <tr>\n      <th>name</th>\n      <th></th>\n      <th></th>\n      <th></th>\n      <th></th>\n      <th></th>\n      <th></th>\n    </tr>\n  </thead>\n  <tbody>\n    <tr>\n      <th>event_code</th>\n      <td>11</td>\n      <td>1</td>\n      <td>alpha</td>\n      <td>See System Event Codes below</td>\n      <td>S</td>\n      <td>s</td>\n    </tr>\n    <tr>\n      <th>stock</th>\n      <td>11</td>\n      <td>8</td>\n      <td>alpha</td>\n      <td>Denotes the security symbol for the issue in t...</td>\n      <td>R</td>\n      <td>8s</td>\n    </tr>\n    <tr>\n      <th>market_category</th>\n      <td>19</td>\n      <td>1</td>\n      <td>alpha</td>\n      <td>Indicates Listing market or listing market tie...</td>\n      <td>R</td>\n      <td>s</td>\n    </tr>\n    <tr>\n      <th>financial_status_indicator</th>\n      <td>20</td>\n      <td>1</td>\n      <td>alpha</td>\n      <td>For Nasdaq listed issues, this field indicates...</td>\n      <td>R</td>\n      <td>s</td>\n    </tr>\n    <tr>\n      <th>round_lots_only</th>\n      <td>25</td>\n      <td>1</td>\n      <td>alpha</td>\n      <td>Indicates if Nasdaq system limits order entry ...</td>\n      <td>R</td>\n      <td>s</td>\n    </tr>\n    <tr>\n      <th>issue_classification</th>\n      <td>26</td>\n      <td>1</td>\n      <td>alpha</td>\n      <td>Identifies the security class for the issue as...</td>\n      <td>R</td>\n      <td>s</td>\n    </tr>\n    <tr>\n      <th>issue_sub_type</th>\n      <td>27</td>\n      <td>2</td>\n      <td>alpha</td>\n      <td>Identifies the security sub-type for the issue...</td>\n      <td>R</td>\n      <td>2s</td>\n    </tr>\n    <tr>\n      <th>authenticity</th>\n      <td>29</td>\n      <td>1</td>\n      <td>alpha</td>\n      <td>Denotes if an issue or quoting participant rec...</td>\n      <td>R</td>\n      <td>s</td>\n    </tr>\n    <tr>\n      <th>short_sale_threshold_indicator</th>\n      <td>30</td>\n      <td>1</td>\n      <td>alpha</td>\n      <td>Indicates if a security is subject to mandator...</td>\n      <td>R</td>\n      <td>s</td>\n    </tr>\n    <tr>\n      <th>ipo_flag</th>\n      <td>31</td>\n      <td>1</td>\n      <td>alpha</td>\n      <td>Indicates if the Nasdaq security is set up for...</td>\n      <td>R</td>\n      <td>s</td>\n    </tr>\n    <tr>\n      <th>luld_reference_price_tier</th>\n      <td>32</td>\n      <td>1</td>\n      <td>alpha</td>\n      <td>Indicates which Limit Up / Limit Down price ba...</td>\n      <td>R</td>\n      <td>s</td>\n    </tr>\n    <tr>\n      <th>etp_flag</th>\n      <td>33</td>\n      <td>1</td>\n      <td>alpha</td>\n      <td>Indicates whether the security is an exchange ...</td>\n      <td>R</td>\n      <td>s</td>\n    </tr>\n    <tr>\n      <th>inverse_indicator</th>\n      <td>38</td>\n      <td>1</td>\n      <td>alpha</td>\n      <td>Indicates the directional relationship between...</td>\n      <td>R</td>\n      <td>s</td>\n    </tr>\n    <tr>\n      <th>stock</th>\n      <td>11</td>\n      <td>8</td>\n      <td>alpha</td>\n      <td>Stock symbol, right padded with spaces</td>\n      <td>H</td>\n      <td>8s</td>\n    </tr>\n    <tr>\n      <th>trading_state</th>\n      <td>19</td>\n      <td>1</td>\n      <td>alpha</td>\n      <td>Indicates the current trading state for the st...</td>\n      <td>H</td>\n      <td>s</td>\n    </tr>\n    <tr>\n      <th>reserved</th>\n      <td>20</td>\n      <td>1</td>\n      <td>alpha</td>\n      <td>Reserved.</td>\n      <td>H</td>\n      <td>s</td>\n    </tr>\n    <tr>\n      <th>reason</th>\n      <td>21</td>\n      <td>4</td>\n      <td>alpha</td>\n      <td>Trading Action reason.</td>\n      <td>H</td>\n      <td>4s</td>\n    </tr>\n    <tr>\n      <th>stock</th>\n      <td>11</td>\n      <td>8</td>\n      <td>alpha</td>\n      <td>Stock symbol, right padded with spaces</td>\n      <td>Y</td>\n      <td>8s</td>\n    </tr>\n    <tr>\n      <th>reg_sho_action</th>\n      <td>19</td>\n      <td>1</td>\n      <td>alpha</td>\n      <td>Denotes the Reg SHO Short Sale Price Test Rest...</td>\n      <td>Y</td>\n      <td>s</td>\n    </tr>\n    <tr>\n      <th>mpid</th>\n      <td>11</td>\n      <td>4</td>\n      <td>alpha</td>\n      <td>Denotes the market participant identifier for ...</td>\n      <td>L</td>\n      <td>4s</td>\n    </tr>\n    <tr>\n      <th>stock</th>\n      <td>15</td>\n      <td>8</td>\n      <td>alpha</td>\n      <td>Stock symbol, right padded with spaces</td>\n      <td>L</td>\n      <td>8s</td>\n    </tr>\n    <tr>\n      <th>primary_market_maker</th>\n      <td>23</td>\n      <td>1</td>\n      <td>alpha</td>\n      <td>Indicates if the market participant firm quali...</td>\n      <td>L</td>\n      <td>s</td>\n    </tr>\n    <tr>\n      <th>market_maker_mode</th>\n      <td>24</td>\n      <td>1</td>\n      <td>alpha</td>\n      <td>Indicates the quoting participant's registrati...</td>\n      <td>L</td>\n      <td>s</td>\n    </tr>\n    <tr>\n      <th>market_participant_state</th>\n      <td>25</td>\n      <td>1</td>\n      <td>alpha</td>\n      <td>Indicates the market participant's current reg...</td>\n      <td>L</td>\n      <td>s</td>\n    </tr>\n    <tr>\n      <th>breached_level</th>\n      <td>11</td>\n      <td>1</td>\n      <td>alpha</td>\n      <td>Denotes the MWCB Level that was breached. 1 = ...</td>\n      <td>W</td>\n      <td>s</td>\n    </tr>\n    <tr>\n      <th>stock</th>\n      <td>11</td>\n      <td>8</td>\n      <td>alpha</td>\n      <td>Stock symbol, right padded with spaces</td>\n      <td>K</td>\n      <td>8s</td>\n    </tr>\n    <tr>\n      <th>ipo_quotation_release_qualifier</th>\n      <td>23</td>\n      <td>1</td>\n      <td>alpha</td>\n      <td>A = Anticipated Quotation Release Time: \\nThis...</td>\n      <td>K</td>\n      <td>s</td>\n    </tr>\n    <tr>\n      <th>stock</th>\n      <td>11</td>\n      <td>8</td>\n      <td>alpha</td>\n      <td>Stock symbol, right padded with spaces</td>\n      <td>J</td>\n      <td>8s</td>\n    </tr>\n    <tr>\n      <th>stock</th>\n      <td>11</td>\n      <td>8</td>\n      <td>alpha</td>\n      <td>Denotes the security symbol for the issue in N...</td>\n      <td>h</td>\n      <td>8s</td>\n    </tr>\n    <tr>\n      <th>market_code</th>\n      <td>19</td>\n      <td>1</td>\n      <td>alpha</td>\n      <td>Q: Nasdaq\\nB: BX\\nX: PS</td>\n      <td>h</td>\n      <td>s</td>\n    </tr>\n    <tr>\n      <th>operational_halt_action</th>\n      <td>20</td>\n      <td>1</td>\n      <td>alpha</td>\n      <td>H: Operationally Halted on the identified Mark...</td>\n      <td>h</td>\n      <td>s</td>\n    </tr>\n    <tr>\n      <th>buy_sell_indicator</th>\n      <td>19</td>\n      <td>1</td>\n      <td>alpha</td>\n      <td>The type of order being added. B = Buy Order. ...</td>\n      <td>A</td>\n      <td>s</td>\n    </tr>\n    <tr>\n      <th>stock</th>\n      <td>24</td>\n      <td>8</td>\n      <td>alpha</td>\n      <td>Stock symbol, right padded with spaces</td>\n      <td>A</td>\n      <td>8s</td>\n    </tr>\n    <tr>\n      <th>buy_sell_indicator</th>\n      <td>19</td>\n      <td>1</td>\n      <td>alpha</td>\n      <td>The type of order being added. B = Buy Order. ...</td>\n      <td>F</td>\n      <td>s</td>\n    </tr>\n    <tr>\n      <th>stock</th>\n      <td>24</td>\n      <td>8</td>\n      <td>alpha</td>\n      <td>Stock symbol, right padded with spaces</td>\n      <td>F</td>\n      <td>8s</td>\n    </tr>\n    <tr>\n      <th>attribution</th>\n      <td>36</td>\n      <td>4</td>\n      <td>alpha</td>\n      <td>Nasdaq Market participant identifier associate...</td>\n      <td>F</td>\n      <td>4s</td>\n    </tr>\n    <tr>\n      <th>printable</th>\n      <td>31</td>\n      <td>1</td>\n      <td>alpha</td>\n      <td>Indicates if the execution should be reflected...</td>\n      <td>C</td>\n      <td>s</td>\n    </tr>\n    <tr>\n      <th>buy_sell_indicator</th>\n      <td>19</td>\n      <td>1</td>\n      <td>alpha</td>\n      <td>The type of non-display order on the book bein...</td>\n      <td>P</td>\n      <td>s</td>\n    </tr>\n    <tr>\n      <th>stock</th>\n      <td>24</td>\n      <td>8</td>\n      <td>alpha</td>\n      <td>Stock Symbol, right padded with spaces</td>\n      <td>P</td>\n      <td>8s</td>\n    </tr>\n    <tr>\n      <th>stock</th>\n      <td>19</td>\n      <td>8</td>\n      <td>alpha</td>\n      <td>Stock symbol, right padded with spaces</td>\n      <td>Q</td>\n      <td>8s</td>\n    </tr>\n    <tr>\n      <th>cross_type</th>\n      <td>39</td>\n      <td>1</td>\n      <td>alpha</td>\n      <td>The Nasdaq cross session for which the message...</td>\n      <td>Q</td>\n      <td>s</td>\n    </tr>\n    <tr>\n      <th>imbalance_direction</th>\n      <td>27</td>\n      <td>1</td>\n      <td>alpha</td>\n      <td>The market side of the order imbalance. \\nB = ...</td>\n      <td>I</td>\n      <td>s</td>\n    </tr>\n    <tr>\n      <th>stock</th>\n      <td>28</td>\n      <td>8</td>\n      <td>alpha</td>\n      <td>Stock symbol, right padded with spaces</td>\n      <td>I</td>\n      <td>8s</td>\n    </tr>\n    <tr>\n      <th>cross_type</th>\n      <td>48</td>\n      <td>1</td>\n      <td>alpha</td>\n      <td>The type of Nasdaq cross for which the NOII me...</td>\n      <td>I</td>\n      <td>s</td>\n    </tr>\n    <tr>\n      <th>price_variation_indicator</th>\n      <td>49</td>\n      <td>1</td>\n      <td>alpha</td>\n      <td>This field indicates the absolute value of the...</td>\n      <td>I</td>\n      <td>s</td>\n    </tr>\n  </tbody>\n</table>\n</div>"
     },
     "execution_count": 74,
     "metadata": {},
     "output_type": "execute_result"
    }
   ],
   "source": [
    "alpha_fields"
   ]
  },
  {
   "cell_type": "markdown",
   "metadata": {
    "pycharm": {
     "name": "#%% md\n"
    }
   },
   "source": [
    "Fields of `alpha` type (alphanumeric) require post-processing as defined in the `format_alpha` function:"
   ]
  },
  {
   "cell_type": "code",
   "execution_count": 75,
   "metadata": {
    "pycharm": {
     "name": "#%%\n"
    },
    "ExecuteTime": {
     "end_time": "2024-07-26T04:14:47.130649Z",
     "start_time": "2024-07-26T04:14:47.125469Z"
    }
   },
   "outputs": [],
   "source": [
    "def format_alpha(mtype, data):\n",
    "    \"\"\"Process byte strings of type alpha\"\"\"\n",
    "\n",
    "    for col in alpha_formats.get(mtype).keys():\n",
    "        if mtype != 'R' and col == 'stock':\n",
    "            data = data.drop(col, axis=1)\n",
    "            continue\n",
    "        data.loc[:, col] = data.loc[:, col].str.decode(\"utf-8\").str.strip()\n",
    "        if encoding.get(col):\n",
    "            data.loc[:, col] = data.loc[:, col].map(encoding.get(col))\n",
    "            # Impesud Note:\n",
    "            # Added code to resolve the bug with the conversion data. Converted to integers.\n",
    "            data[col] = data[col].astype(int) \n",
    "    return data"
   ]
  },
  {
   "cell_type": "markdown",
   "metadata": {
    "pycharm": {
     "name": "#%% md\n"
    }
   },
   "source": [
    "## Process Binary Message Data"
   ]
  },
  {
   "cell_type": "markdown",
   "metadata": {
    "pycharm": {
     "name": "#%% md\n"
    }
   },
   "source": [
    "The binary file for a single day contains over 350,000,000 messages worth over 12 GB."
   ]
  },
  {
   "cell_type": "code",
   "execution_count": 76,
   "metadata": {
    "pycharm": {
     "name": "#%%\n"
    },
    "ExecuteTime": {
     "end_time": "2024-07-26T04:14:47.142285Z",
     "start_time": "2024-07-26T04:14:47.131647Z"
    }
   },
   "outputs": [],
   "source": [
    "def store_messages(m):\n",
    "    \n",
    "    \"\"\"Handle occasional storing of all messages\"\"\"\n",
    "    with pd.HDFStore(itch_store) as store:\n",
    "        for mtype, data in m.items():\n",
    "            # convert to DataFrame\n",
    "            data = pd.DataFrame(data)\n",
    "\n",
    "            # parse timestamp info\n",
    "            data.timestamp = data.timestamp.apply(int.from_bytes, byteorder='big')\n",
    "            data.timestamp = pd.to_timedelta(data.timestamp)\n",
    "\n",
    "            # apply alpha formatting\n",
    "            if mtype in alpha_formats.keys():\n",
    "                data = format_alpha(mtype, data)\n",
    "\n",
    "            s = alpha_length.get(mtype)\n",
    "            if s:\n",
    "                s = {c: s.get(c) for c in data.columns}\n",
    "            dc = ['stock_locate']\n",
    "            if m == 'R':\n",
    "                dc.append('stock')\n",
    "            try:\n",
    "                store.append(mtype,\n",
    "                         data,\n",
    "                         format='table',\n",
    "                         min_itemsize=s,\n",
    "                         data_columns=dc)\n",
    "            except Exception as e:\n",
    "                print(e)\n",
    "                print(mtype)\n",
    "                print(data.info())\n",
    "                print(pd.Series(list(m.keys())).value_counts())\n",
    "                data.to_csv('data.csv', index=False)\n",
    "                return 1 \n",
    "    return 0"
   ]
  },
  {
   "cell_type": "code",
   "execution_count": 77,
   "metadata": {
    "pycharm": {
     "name": "#%%\n"
    },
    "ExecuteTime": {
     "end_time": "2024-07-26T04:14:47.146419Z",
     "start_time": "2024-07-26T04:14:47.143323Z"
    }
   },
   "outputs": [],
   "source": [
    "messages = defaultdict(list)\n",
    "message_count = 0\n",
    "message_type_counter = Counter()"
   ]
  },
  {
   "cell_type": "markdown",
   "metadata": {
    "pycharm": {
     "name": "#%% md\n"
    }
   },
   "source": [
    "The script appends the parsed result iteratively to a file in the fast HDF5 format using the `store_messages()` function we just defined to avoid memory constraints (see last section in chapter 2 for more on this format)."
   ]
  },
  {
   "cell_type": "markdown",
   "metadata": {
    "pycharm": {
     "name": "#%% md\n"
    }
   },
   "source": [
    "The following code processes the binary file and produces the parsed orders stored by message type:"
   ]
  },
  {
   "cell_type": "code",
   "execution_count": null,
   "metadata": {
    "is_executing": true
   },
   "outputs": [],
   "source": [
    "# Impesud Note:\n",
    "# Check formats with info() method\n",
    "with pd.HDFStore(itch_store) as store:\n",
    "    print(store.info())"
   ]
  },
  {
   "cell_type": "markdown",
   "metadata": {
    "pycharm": {
     "name": "#%% md\n"
    }
   },
   "source": [
    "## Summarize Trading Day"
   ]
  },
  {
   "cell_type": "markdown",
   "metadata": {
    "pycharm": {
     "name": "#%% md\n"
    }
   },
   "source": [
    "### Trading Message Frequency"
   ]
  },
  {
   "cell_type": "code",
   "execution_count": null,
   "metadata": {
    "pycharm": {
     "name": "#%%\n"
    },
    "is_executing": true
   },
   "outputs": [],
   "source": [
    "counter = pd.Series(message_type_counter).to_frame('# Trades')\n",
    "counter['Message Type'] = counter.index.map(message_labels.set_index('message_type').name.to_dict())\n",
    "counter = counter[['Message Type', '# Trades']].sort_values('# Trades', ascending=False)\n",
    "counter"
   ]
  },
  {
   "cell_type": "markdown",
   "metadata": {
    "pycharm": {
     "name": "#%% md\n"
    }
   },
   "source": [
    "### Top Equities by Traded Value"
   ]
  },
  {
   "cell_type": "code",
   "execution_count": null,
   "metadata": {
    "pycharm": {
     "name": "#%%\n"
    },
    "is_executing": true
   },
   "outputs": [],
   "source": [
    "with pd.HDFStore(itch_store) as store:\n",
    "    stocks = store['R'].loc[:, ['stock_locate', 'stock']]\n",
    "    # trades = store['P'].append(store['Q'].rename(columns={'cross_price': 'price'}), sort=False).merge(stocks)\n",
    "    # Impesud Note:\n",
    "    # The append() method is deprecated on new versions of Pandas and no longer works. Use the _append() method.\n",
    "    # The concat method cannot be used because it changes the format of Q, from \"table\" to \"fixed\"\n",
    "    trades = store['P']._append(store['Q'].rename(columns={'cross_price': 'price'}), sort=False).merge(stocks)\n",
    "    trades = pd.concat([store['P'], store['Q']]).merge(stocks)\n",
    "\n",
    "trades['value'] = trades.shares.mul(trades.price)\n",
    "trades['value_share'] = trades.value.div(trades.value.sum())\n",
    "\n",
    "trade_summary = trades.groupby('stock').value_share.sum().sort_values(ascending=False)\n",
    "trade_summary.iloc[:50].plot.bar(figsize=(14, 6), color='darkblue', title='Share of Traded Value')\n",
    "\n",
    "plt.gca().yaxis.set_major_formatter(FuncFormatter(lambda y, _: '{:.0%}'.format(y)))\n",
    "sns.despine()\n",
    "plt.tight_layout()"
   ]
  }
 ],
 "metadata": {
  "kernelspec": {
   "display_name": "Python 3 (ipykernel)",
   "language": "python",
   "name": "python3"
  },
  "language_info": {
   "codemirror_mode": {
    "name": "ipython",
    "version": 3
   },
   "file_extension": ".py",
   "mimetype": "text/x-python",
   "name": "python",
   "nbconvert_exporter": "python",
   "pygments_lexer": "ipython3",
   "version": "3.8.10"
  },
  "toc": {
   "base_numbering": 1,
   "nav_menu": {},
   "number_sections": true,
   "sideBar": true,
   "skip_h1_title": true,
   "title_cell": "Table of Contents",
   "title_sidebar": "Contents",
   "toc_cell": false,
   "toc_position": {
    "height": "calc(100% - 180px)",
    "left": "10px",
    "top": "150px",
    "width": "282px"
   },
   "toc_section_display": true,
   "toc_window_display": true
  }
 },
 "nbformat": 4,
 "nbformat_minor": 4
}
